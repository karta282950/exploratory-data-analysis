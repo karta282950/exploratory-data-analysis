{
 "cells": [
  {
   "cell_type": "markdown",
   "metadata": {},
   "source": [
    "本文学习的内容来自：[EDA and models](https://www.kaggle.com/artgor/eda-and-models/data)\n",
    "\n",
    "学习到的知识点：\n",
    "\n",
    "- 如何使用altair可视化工具：https://altair-viz.github.io/\n",
    "- 如何构建分类模型的baseline，实现高效、稳定"
   ]
  },
  {
   "cell_type": "markdown",
   "metadata": {},
   "source": [
    "## 1 导入库"
   ]
  },
  {
   "cell_type": "code",
   "execution_count": 3,
   "metadata": {},
   "outputs": [],
   "source": [
    "import pandas as pd\n",
    "import os\n",
    "\n",
    "import matplotlib.pyplot as plt\n",
    "%matplotlib inline\n",
    "from tqdm import tqdm_notebook\n",
    "from sklearn.preprocessing import StandardScaler\n",
    "from sklearn.svm import NuSVR, SVR\n",
    "from sklearn.metrics import mean_absolute_error\n",
    "pd.options.display.precision = 15\n",
    "\n",
    "import lightgbm as lgb\n",
    "import xgboost as xgb\n",
    "import time\n",
    "import datetime\n",
    "from catboost import CatBoostRegressor\n",
    "from sklearn.preprocessing import LabelEncoder\n",
    "from sklearn.model_selection import StratifiedKFold, KFold, RepeatedKFold, GroupKFold, GridSearchCV, train_test_split, TimeSeriesSplit\n",
    "from sklearn import metrics\n",
    "from sklearn import linear_model\n",
    "import gc\n",
    "import seaborn as sns\n",
    "import warnings\n",
    "warnings.filterwarnings(\"ignore\")\n",
    "\n",
    "import eli5 # 可解释scikit的参数权重等\n",
    "import shap # 可视化工具\n",
    "from IPython.display import HTML\n",
    "import json\n",
    "import altair as alt\n",
    "import networkx as nx\n",
    "import matplotlib.pyplot as plt\n",
    "%matplotlib inline\n",
    "# alt.renderers.enable('notebook')\n",
    "# https://www.scrygroup.com/tutorial/2019-04-11/altair_jupyter_inline/"
   ]
  },
  {
   "cell_type": "markdown",
   "metadata": {},
   "source": [
    "## 2 自定义函数"
   ]
  },
  {
   "cell_type": "code",
   "execution_count": 16,
   "metadata": {},
   "outputs": [],
   "source": [
    "import os\n",
    "import time\n",
    "import datetime\n",
    "import json\n",
    "import gc\n",
    "from numba import jit\n",
    "\n",
    "import numpy as np\n",
    "import pandas as pd\n",
    "\n",
    "import matplotlib.pyplot as plt\n",
    "import seaborn as sns\n",
    "from tqdm import tqdm_notebook\n",
    "\n",
    "import lightgbm as lgb\n",
    "import xgboost as xgb\n",
    "from catboost import CatBoostRegressor, CatBoostClassifier\n",
    "from sklearn import metrics\n",
    "\n",
    "from itertools import product\n",
    "\n",
    "import altair as alt\n",
    "from altair.vega import v5\n",
    "from IPython.display import HTML"
   ]
  },
  {
   "cell_type": "markdown",
   "metadata": {},
   "source": [
    "### 可视化工具函数"
   ]
  },
  {
   "cell_type": "code",
   "execution_count": 17,
   "metadata": {},
   "outputs": [],
   "source": [
    "# using ideas from this kernel: https://www.kaggle.com/notslush/altair-visualization-2018-stackoverflow-survey\n",
    "def prepare_altair():\n",
    "    \"\"\"\n",
    "    Helper function to prepare altair for working.\n",
    "    \"\"\"\n",
    "\n",
    "    vega_url = 'https://cdn.jsdelivr.net/npm/vega@' + v5.SCHEMA_VERSION\n",
    "    vega_lib_url = 'https://cdn.jsdelivr.net/npm/vega-lib'\n",
    "    vega_lite_url = 'https://cdn.jsdelivr.net/npm/vega-lite@' + alt.SCHEMA_VERSION\n",
    "    vega_embed_url = 'https://cdn.jsdelivr.net/npm/vega-embed@3'\n",
    "    noext = \"?noext\"\n",
    "    \n",
    "    paths = {\n",
    "        'vega': vega_url + noext,\n",
    "        'vega-lib': vega_lib_url + noext,\n",
    "        'vega-lite': vega_lite_url + noext,\n",
    "        'vega-embed': vega_embed_url + noext\n",
    "    }\n",
    "    \n",
    "    workaround = f\"\"\"   requirejs.config({{\n",
    "        baseUrl: 'https://cdn.jsdelivr.net/npm/',\n",
    "        paths: {paths}\n",
    "    }});\n",
    "    \"\"\"\n",
    "    \n",
    "    return workaround"
   ]
  },
  {
   "cell_type": "code",
   "execution_count": 18,
   "metadata": {},
   "outputs": [],
   "source": [
    "def add_autoincrement(render_func):\n",
    "    # Keep track of unique <div/> IDs\n",
    "    cache = {}\n",
    "    def wrapped(chart, id=\"vega-chart\", autoincrement=True):\n",
    "        if autoincrement:\n",
    "            if id in cache:\n",
    "                counter = 1 + cache[id]\n",
    "                cache[id] = counter\n",
    "            else:\n",
    "                cache[id] = 0\n",
    "            actual_id = id if cache[id] == 0 else id + '-' + str(cache[id])\n",
    "        else:\n",
    "            if id not in cache:\n",
    "                cache[id] = 0\n",
    "            actual_id = id\n",
    "        return render_func(chart, id=actual_id)\n",
    "    # Cache will stay outside and \n",
    "    return wrapped\n",
    "\n",
    "@add_autoincrement\n",
    "def render(chart, id=\"vega-chart\"):\n",
    "    \"\"\"\n",
    "    Helper function to plot altair visualizations.\n",
    "    \"\"\"\n",
    "    chart_str = \"\"\"\n",
    "    <div id=\"{id}\"></div><script>\n",
    "    require([\"vega-embed\"], function(vg_embed) {{\n",
    "        const spec = {chart};     \n",
    "        vg_embed(\"#{id}\", spec, {{defaultStyle: true}}).catch(console.warn);\n",
    "        console.log(\"anything?\");\n",
    "    }});\n",
    "    console.log(\"really...anything?\");\n",
    "    </script>\n",
    "    \"\"\"\n",
    "    return HTML(\n",
    "        chart_str.format(\n",
    "            id=id,\n",
    "            chart=json.dumps(chart) if isinstance(chart, dict) else chart.to_json(indent=None)\n",
    "        )\n",
    "    )\n",
    "    "
   ]
  },
  {
   "cell_type": "markdown",
   "metadata": {},
   "source": [
    "### 减小内存"
   ]
  },
  {
   "cell_type": "code",
   "execution_count": 19,
   "metadata": {},
   "outputs": [],
   "source": [
    "def reduce_mem_usage(df, verbose=True):\n",
    "    numerics = ['int16', 'int32', 'int64', 'float16', 'float32', 'float64']\n",
    "    start_mem = df.memory_usage(deep=True).sum() / 1024**2\n",
    "    for col in df.columns:\n",
    "        col_type = df[col].dtypes\n",
    "        if col_type in numerics:\n",
    "            c_min = df[col].min()\n",
    "            c_max = df[col].max()\n",
    "            if str(col_type)[:3] == 'int':\n",
    "                if c_min > np.iinfo(np.int8).min and c_max < np.iinfo(np.int8).max:\n",
    "                    df[col] = df[col].astype(np.int8)\n",
    "                elif c_min > np.iinfo(np.int16).min and c_max < np.iinfo(np.int16).max:\n",
    "                    df[col] = df[col].astype(np.int16)\n",
    "                elif c_min > np.iinfo(np.int32).min and c_max < np.iinfo(np.int32).max:\n",
    "                    df[col] = df[col].astype(np.int32)\n",
    "                elif c_min > np.iinfo(np.int64).min and c_max < np.iinfo(np.int64).max:\n",
    "                    df[col] = df[col].astype(np.int64)\n",
    "            else:\n",
    "                c_prec = df[col].apply(lambda x: np.finfo(x).precision).max()\n",
    "                if c_min > np.finfo(np.float32).min and c_max < np.finfo(np.float32).max and c_prec == np.finfo(np.float32).precision:\n",
    "                    df[col] = df[col].astype(np.float32)\n",
    "                else:\n",
    "                    df[col] = df[col].astype(np.float64)\n",
    "    end_mem = df.memory_usage(deep=True).sum() / 1024**2\n",
    "    if verbose: print('Mem. usage decreased to {:5.2f} Mb ({:.1f}% reduction)'.format(end_mem, 100 * (start_mem - end_mem) / start_mem))\n",
    "    return df\n",
    "    "
   ]
  },
  {
   "cell_type": "markdown",
   "metadata": {},
   "source": [
    "### 自定评价指标函数"
   ]
  },
  {
   "cell_type": "code",
   "execution_count": 20,
   "metadata": {},
   "outputs": [],
   "source": [
    "@jit\n",
    "def fast_auc(y_true, y_prob):\n",
    "    \"\"\"\n",
    "    fast roc_auc computation: https://www.kaggle.com/c/microsoft-malware-prediction/discussion/76013\n",
    "    \"\"\"\n",
    "    y_true = np.asarray(y_true)\n",
    "    y_true = y_true[np.argsort(y_prob)]\n",
    "    nfalse = 0\n",
    "    auc = 0\n",
    "    n = len(y_true)\n",
    "    for i in range(n):\n",
    "        y_i = y_true[i]\n",
    "        nfalse += (1 - y_i)\n",
    "        auc += y_i * nfalse\n",
    "    auc /= (nfalse * (n - nfalse))\n",
    "    return auc\n",
    "\n",
    "def eval_auc(y_true, y_pred):\n",
    "    \"\"\"\n",
    "    Fast auc eval function for lgb.\n",
    "    \"\"\"\n",
    "    return 'auc', fast_auc(y_true, y_pred), True"
   ]
  },
  {
   "cell_type": "code",
   "execution_count": 21,
   "metadata": {},
   "outputs": [],
   "source": [
    "def group_mean_log_mae(y_true, y_pred, types, floor=1e-9):\n",
    "    \"\"\"\n",
    "    Fast metric computation for this competition: https://www.kaggle.com/c/champs-scalar-coupling\n",
    "    Code is from this kernel: https://www.kaggle.com/uberkinder/efficient-metric\n",
    "    \"\"\"\n",
    "    maes = (y_true-y_pred).abs().groupby(types).mean()\n",
    "    return np.log(maes.map(lambda x: max(x, floor))).mean()\n"
   ]
  },
  {
   "cell_type": "markdown",
   "metadata": {},
   "source": [
    "### 模型训练函数★★★★★"
   ]
  },
  {
   "cell_type": "code",
   "execution_count": 22,
   "metadata": {},
   "outputs": [],
   "source": [
    "def train_model_regression(X, X_test, y, params, folds=None, model_type='lgb', eval_metric='mae', columns=None, plot_feature_importance=False, model=None,\n",
    "                               verbose=10000, early_stopping_rounds=200, n_estimators=50000, splits=None, n_folds=3):\n",
    "    \"\"\"\n",
    "    A function to train a variety of regression models.\n",
    "    Returns dictionary with oof predictions, test predictions, scores and, if necessary, feature importances.\n",
    "    \n",
    "    :params: X - training data, can be pd.DataFrame or np.ndarray (after normalizing)\n",
    "    :params: X_test - test data, can be pd.DataFrame or np.ndarray (after normalizing)\n",
    "    :params: y - target\n",
    "    :params: folds - folds to split data\n",
    "    :params: model_type - type of model to use\n",
    "    :params: eval_metric - metric to use\n",
    "    :params: columns - columns to use. If None - use all columns\n",
    "    :params: plot_feature_importance - whether to plot feature importance of LGB\n",
    "    :params: model - sklearn model, works only for \"sklearn\" model type\n",
    "    \n",
    "    \"\"\"\n",
    "    \n",
    "    columns = X.columns if columns is None else columns\n",
    "    X_test = X_test[columns]\n",
    "    splits = folds.split(X) if splits is None else splits\n",
    "    n_splits = folds.n_splits if splits is None else n_folds\n",
    "    \n",
    "    # to set up scoring parameters\n",
    "    metrics_dict = {'mae': {'lgb_metric_name': 'mae',\n",
    "                        'catboost_metric_name': 'MAE',\n",
    "                        'sklearn_scoring_function': metrics.mean_absolute_error},\n",
    "                    'group_mae': {'lgb_metric_name': 'mae',\n",
    "                        'catboost_metric_name': 'MAE',\n",
    "                        'scoring_function': group_mean_log_mae},\n",
    "                    'mse': {'lgb_metric_name': 'mse',\n",
    "                        'catboost_metric_name': 'MSE',\n",
    "                        'sklearn_scoring_function': metrics.mean_squared_error}\n",
    "                    }\n",
    "    result_dict = {}\n",
    "    \n",
    "    # out-of-fold predictions on train data\n",
    "    oof = np.zeros(len(X))\n",
    "    \n",
    "    # averaged predictions on train data\n",
    "    prediction = np.zeros(len(X_test))\n",
    "    \n",
    "    # list of scores on folds\n",
    "    scores = []\n",
    "    feature_importance = pd.DataFrame()\n",
    "    \n",
    "    # split and train on folds\n",
    "    for fold_n, (train_index, valid_index) in enumerate(splits):\n",
    "        if verbose:\n",
    "            print(f'Fold {fold_n + 1} started at {time.ctime()}')\n",
    "        if type(X) == np.ndarray:\n",
    "            X_train, X_valid = X[columns][train_index], X[columns][valid_index]\n",
    "            y_train, y_valid = y[train_index], y[valid_index]\n",
    "        else:\n",
    "            X_train, X_valid = X[columns].iloc[train_index], X[columns].iloc[valid_index]\n",
    "            y_train, y_valid = y.iloc[train_index], y.iloc[valid_index]\n",
    "            \n",
    "        if model_type == 'lgb':\n",
    "            model = lgb.LGBMRegressor(**params, n_estimators = n_estimators, n_jobs = -1)\n",
    "            model.fit(X_train, y_train, \n",
    "                    eval_set=[(X_train, y_train), (X_valid, y_valid)], eval_metric=metrics_dict[eval_metric]['lgb_metric_name'],\n",
    "                    verbose=verbose, early_stopping_rounds=early_stopping_rounds)\n",
    "            \n",
    "            y_pred_valid = model.predict(X_valid)\n",
    "            y_pred = model.predict(X_test, num_iteration=model.best_iteration_)\n",
    "            \n",
    "        if model_type == 'xgb':\n",
    "            train_data = xgb.DMatrix(data=X_train, label=y_train, feature_names=X.columns)\n",
    "            valid_data = xgb.DMatrix(data=X_valid, label=y_valid, feature_names=X.columns)\n",
    "\n",
    "            watchlist = [(train_data, 'train'), (valid_data, 'valid_data')]\n",
    "            model = xgb.train(dtrain=train_data, num_boost_round=20000, evals=watchlist, early_stopping_rounds=200, verbose_eval=verbose, params=params)\n",
    "            y_pred_valid = model.predict(xgb.DMatrix(X_valid, feature_names=X.columns), ntree_limit=model.best_ntree_limit)\n",
    "            y_pred = model.predict(xgb.DMatrix(X_test, feature_names=X.columns), ntree_limit=model.best_ntree_limit)\n",
    "        \n",
    "        if model_type == 'sklearn':\n",
    "            model = model\n",
    "            model.fit(X_train, y_train)\n",
    "            y_pred_valid = model.predict(X_valid).reshape(-1,)\n",
    "            score = metrics_dict[eval_metric]['sklearn_scoring_function'](y_valid, y_pred_valid)\n",
    "            print(f'Fold {fold_n}. {eval_metric}: {score:.4f}.')\n",
    "            print('')\n",
    "            \n",
    "            y_pred = model.predict(X_test).reshape(-1,)\n",
    "        \n",
    "        if model_type == 'cat':\n",
    "            model = CatBoostRegressor(iterations=20000,  eval_metric=metrics_dict[eval_metric]['catboost_metric_name'], **params,\n",
    "                                      loss_function=metrics_dict[eval_metric]['catboost_metric_name'])\n",
    "            model.fit(X_train, y_train, eval_set=(X_valid, y_valid), cat_features=[], use_best_model=True, verbose=False)\n",
    "\n",
    "            y_pred_valid = model.predict(X_valid)\n",
    "            y_pred = model.predict(X_test)\n",
    "        \n",
    "        oof[valid_index] = y_pred_valid.reshape(-1,)\n",
    "        if eval_metric != 'group_mae':\n",
    "            scores.append(metrics_dict[eval_metric]['sklearn_scoring_function'](y_valid, y_pred_valid))\n",
    "        else:\n",
    "            scores.append(metrics_dict[eval_metric]['scoring_function'](y_valid, y_pred_valid, X_valid['type']))\n",
    "\n",
    "        prediction += y_pred    \n",
    "        \n",
    "        if model_type == 'lgb' and plot_feature_importance:\n",
    "            # feature importance\n",
    "            fold_importance = pd.DataFrame()\n",
    "            fold_importance[\"feature\"] = columns\n",
    "            fold_importance[\"importance\"] = model.feature_importances_\n",
    "            fold_importance[\"fold\"] = fold_n + 1\n",
    "            feature_importance = pd.concat([feature_importance, fold_importance], axis=0)\n",
    "\n",
    "    prediction /= n_splits\n",
    "    print('CV mean score: {0:.4f}, std: {1:.4f}.'.format(np.mean(scores), np.std(scores)))\n",
    "    \n",
    "    result_dict['oof'] = oof\n",
    "    result_dict['prediction'] = prediction\n",
    "    result_dict['scores'] = scores\n",
    "    \n",
    "    if model_type == 'lgb':\n",
    "        if plot_feature_importance:\n",
    "            feature_importance[\"importance\"] /= n_splits\n",
    "            cols = feature_importance[[\"feature\", \"importance\"]].groupby(\"feature\").mean().sort_values(\n",
    "                by=\"importance\", ascending=False)[:50].index\n",
    "\n",
    "            best_features = feature_importance.loc[feature_importance.feature.isin(cols)]\n",
    "\n",
    "            plt.figure(figsize=(16, 12));\n",
    "            sns.barplot(x=\"importance\", y=\"feature\", data=best_features.sort_values(by=\"importance\", ascending=False));\n",
    "            plt.title('LGB Features (avg over folds)');\n",
    "            \n",
    "            result_dict['feature_importance'] = feature_importance\n",
    "        \n",
    "    return result_dict        "
   ]
  },
  {
   "cell_type": "code",
   "execution_count": 23,
   "metadata": {},
   "outputs": [
    {
     "data": {
      "text/html": [
       "<script>   requirejs.config({\n",
       "        baseUrl: 'https://cdn.jsdelivr.net/npm/',\n",
       "        paths: {'vega': 'https://cdn.jsdelivr.net/npm/vega@v5.9.0?noext', 'vega-lib': 'https://cdn.jsdelivr.net/npm/vega-lib?noext', 'vega-lite': 'https://cdn.jsdelivr.net/npm/vega-lite@v4.0.0?noext', 'vega-embed': 'https://cdn.jsdelivr.net/npm/vega-embed@3?noext'}\n",
       "    });\n",
       "    </script>"
      ],
      "text/plain": [
       "<IPython.core.display.HTML object>"
      ]
     },
     "execution_count": 23,
     "metadata": {},
     "output_type": "execute_result"
    }
   ],
   "source": [
    "# setting up altair\n",
    "workaround = prepare_altair()\n",
    "HTML(\"\".join((\n",
    "    \"<script>\",\n",
    "    workaround,\n",
    "    \"</script>\",\n",
    ")))"
   ]
  },
  {
   "cell_type": "markdown",
   "metadata": {},
   "source": [
    "## 3 数据加载与预览"
   ]
  },
  {
   "cell_type": "code",
   "execution_count": 4,
   "metadata": {},
   "outputs": [],
   "source": [
    "folder_path = 'data/05/ieee-fraud-detection/'\n",
    "train_identity = pd.read_csv(f'{folder_path}train_identity.csv')\n",
    "train_transaction = pd.read_csv(f'{folder_path}train_transaction.csv')\n",
    "test_identity = pd.read_csv(f'{folder_path}test_identity.csv')\n",
    "test_transaction = pd.read_csv(f'{folder_path}test_transaction.csv')\n",
    "sub = pd.read_csv(f'{folder_path}sample_submission.csv')\n",
    "# let's combine the data and work with the whole dataset\n",
    "train = pd.merge(train_transaction, train_identity, on='TransactionID', how='left')\n",
    "test = pd.merge(test_transaction, test_identity, on='TransactionID', how='left')"
   ]
  },
  {
   "cell_type": "code",
   "execution_count": 5,
   "metadata": {},
   "outputs": [
    {
     "name": "stdout",
     "output_type": "stream",
     "text": [
      "Train dataset has 590540 行 and 434 列.\n",
      "Test dataset has 506691 行 and 433 列.\n"
     ]
    }
   ],
   "source": [
    "print(f'Train dataset has {train.shape[0]} 行 and {train.shape[1]} 列.')\n",
    "print(f'Test dataset has {test.shape[0]} 行 and {test.shape[1]} 列.')"
   ]
  },
  {
   "cell_type": "code",
   "execution_count": 6,
   "metadata": {},
   "outputs": [
    {
     "data": {
      "text/html": [
       "<div>\n",
       "<style scoped>\n",
       "    .dataframe tbody tr th:only-of-type {\n",
       "        vertical-align: middle;\n",
       "    }\n",
       "\n",
       "    .dataframe tbody tr th {\n",
       "        vertical-align: top;\n",
       "    }\n",
       "\n",
       "    .dataframe thead th {\n",
       "        text-align: right;\n",
       "    }\n",
       "</style>\n",
       "<table border=\"1\" class=\"dataframe\">\n",
       "  <thead>\n",
       "    <tr style=\"text-align: right;\">\n",
       "      <th></th>\n",
       "      <th>TransactionID</th>\n",
       "      <th>isFraud</th>\n",
       "      <th>TransactionDT</th>\n",
       "      <th>TransactionAmt</th>\n",
       "      <th>ProductCD</th>\n",
       "      <th>card1</th>\n",
       "      <th>card2</th>\n",
       "      <th>card3</th>\n",
       "      <th>card4</th>\n",
       "      <th>card5</th>\n",
       "      <th>...</th>\n",
       "      <th>V330</th>\n",
       "      <th>V331</th>\n",
       "      <th>V332</th>\n",
       "      <th>V333</th>\n",
       "      <th>V334</th>\n",
       "      <th>V335</th>\n",
       "      <th>V336</th>\n",
       "      <th>V337</th>\n",
       "      <th>V338</th>\n",
       "      <th>V339</th>\n",
       "    </tr>\n",
       "  </thead>\n",
       "  <tbody>\n",
       "    <tr>\n",
       "      <th>0</th>\n",
       "      <td>2987000</td>\n",
       "      <td>0</td>\n",
       "      <td>86400</td>\n",
       "      <td>68.5</td>\n",
       "      <td>W</td>\n",
       "      <td>13926</td>\n",
       "      <td>NaN</td>\n",
       "      <td>150.0</td>\n",
       "      <td>discover</td>\n",
       "      <td>142.0</td>\n",
       "      <td>...</td>\n",
       "      <td>NaN</td>\n",
       "      <td>NaN</td>\n",
       "      <td>NaN</td>\n",
       "      <td>NaN</td>\n",
       "      <td>NaN</td>\n",
       "      <td>NaN</td>\n",
       "      <td>NaN</td>\n",
       "      <td>NaN</td>\n",
       "      <td>NaN</td>\n",
       "      <td>NaN</td>\n",
       "    </tr>\n",
       "    <tr>\n",
       "      <th>1</th>\n",
       "      <td>2987001</td>\n",
       "      <td>0</td>\n",
       "      <td>86401</td>\n",
       "      <td>29.0</td>\n",
       "      <td>W</td>\n",
       "      <td>2755</td>\n",
       "      <td>404.0</td>\n",
       "      <td>150.0</td>\n",
       "      <td>mastercard</td>\n",
       "      <td>102.0</td>\n",
       "      <td>...</td>\n",
       "      <td>NaN</td>\n",
       "      <td>NaN</td>\n",
       "      <td>NaN</td>\n",
       "      <td>NaN</td>\n",
       "      <td>NaN</td>\n",
       "      <td>NaN</td>\n",
       "      <td>NaN</td>\n",
       "      <td>NaN</td>\n",
       "      <td>NaN</td>\n",
       "      <td>NaN</td>\n",
       "    </tr>\n",
       "    <tr>\n",
       "      <th>2</th>\n",
       "      <td>2987002</td>\n",
       "      <td>0</td>\n",
       "      <td>86469</td>\n",
       "      <td>59.0</td>\n",
       "      <td>W</td>\n",
       "      <td>4663</td>\n",
       "      <td>490.0</td>\n",
       "      <td>150.0</td>\n",
       "      <td>visa</td>\n",
       "      <td>166.0</td>\n",
       "      <td>...</td>\n",
       "      <td>NaN</td>\n",
       "      <td>NaN</td>\n",
       "      <td>NaN</td>\n",
       "      <td>NaN</td>\n",
       "      <td>NaN</td>\n",
       "      <td>NaN</td>\n",
       "      <td>NaN</td>\n",
       "      <td>NaN</td>\n",
       "      <td>NaN</td>\n",
       "      <td>NaN</td>\n",
       "    </tr>\n",
       "    <tr>\n",
       "      <th>3</th>\n",
       "      <td>2987003</td>\n",
       "      <td>0</td>\n",
       "      <td>86499</td>\n",
       "      <td>50.0</td>\n",
       "      <td>W</td>\n",
       "      <td>18132</td>\n",
       "      <td>567.0</td>\n",
       "      <td>150.0</td>\n",
       "      <td>mastercard</td>\n",
       "      <td>117.0</td>\n",
       "      <td>...</td>\n",
       "      <td>NaN</td>\n",
       "      <td>NaN</td>\n",
       "      <td>NaN</td>\n",
       "      <td>NaN</td>\n",
       "      <td>NaN</td>\n",
       "      <td>NaN</td>\n",
       "      <td>NaN</td>\n",
       "      <td>NaN</td>\n",
       "      <td>NaN</td>\n",
       "      <td>NaN</td>\n",
       "    </tr>\n",
       "    <tr>\n",
       "      <th>4</th>\n",
       "      <td>2987004</td>\n",
       "      <td>0</td>\n",
       "      <td>86506</td>\n",
       "      <td>50.0</td>\n",
       "      <td>H</td>\n",
       "      <td>4497</td>\n",
       "      <td>514.0</td>\n",
       "      <td>150.0</td>\n",
       "      <td>mastercard</td>\n",
       "      <td>102.0</td>\n",
       "      <td>...</td>\n",
       "      <td>0.0</td>\n",
       "      <td>0.0</td>\n",
       "      <td>0.0</td>\n",
       "      <td>0.0</td>\n",
       "      <td>0.0</td>\n",
       "      <td>0.0</td>\n",
       "      <td>0.0</td>\n",
       "      <td>0.0</td>\n",
       "      <td>0.0</td>\n",
       "      <td>0.0</td>\n",
       "    </tr>\n",
       "  </tbody>\n",
       "</table>\n",
       "<p>5 rows × 394 columns</p>\n",
       "</div>"
      ],
      "text/plain": [
       "   TransactionID  isFraud  TransactionDT  TransactionAmt ProductCD  card1  \\\n",
       "0        2987000        0          86400            68.5         W  13926   \n",
       "1        2987001        0          86401            29.0         W   2755   \n",
       "2        2987002        0          86469            59.0         W   4663   \n",
       "3        2987003        0          86499            50.0         W  18132   \n",
       "4        2987004        0          86506            50.0         H   4497   \n",
       "\n",
       "   card2  card3       card4  card5  ... V330  V331  V332  V333  V334 V335  \\\n",
       "0    NaN  150.0    discover  142.0  ...  NaN   NaN   NaN   NaN   NaN  NaN   \n",
       "1  404.0  150.0  mastercard  102.0  ...  NaN   NaN   NaN   NaN   NaN  NaN   \n",
       "2  490.0  150.0        visa  166.0  ...  NaN   NaN   NaN   NaN   NaN  NaN   \n",
       "3  567.0  150.0  mastercard  117.0  ...  NaN   NaN   NaN   NaN   NaN  NaN   \n",
       "4  514.0  150.0  mastercard  102.0  ...  0.0   0.0   0.0   0.0   0.0  0.0   \n",
       "\n",
       "  V336  V337  V338  V339  \n",
       "0  NaN   NaN   NaN   NaN  \n",
       "1  NaN   NaN   NaN   NaN  \n",
       "2  NaN   NaN   NaN   NaN  \n",
       "3  NaN   NaN   NaN   NaN  \n",
       "4  0.0   0.0   0.0   0.0  \n",
       "\n",
       "[5 rows x 394 columns]"
      ]
     },
     "execution_count": 6,
     "metadata": {},
     "output_type": "execute_result"
    }
   ],
   "source": [
    "train_transaction.head()"
   ]
  },
  {
   "cell_type": "code",
   "execution_count": 7,
   "metadata": {},
   "outputs": [
    {
     "data": {
      "text/html": [
       "<div>\n",
       "<style scoped>\n",
       "    .dataframe tbody tr th:only-of-type {\n",
       "        vertical-align: middle;\n",
       "    }\n",
       "\n",
       "    .dataframe tbody tr th {\n",
       "        vertical-align: top;\n",
       "    }\n",
       "\n",
       "    .dataframe thead th {\n",
       "        text-align: right;\n",
       "    }\n",
       "</style>\n",
       "<table border=\"1\" class=\"dataframe\">\n",
       "  <thead>\n",
       "    <tr style=\"text-align: right;\">\n",
       "      <th></th>\n",
       "      <th>TransactionID</th>\n",
       "      <th>id_01</th>\n",
       "      <th>id_02</th>\n",
       "      <th>id_03</th>\n",
       "      <th>id_04</th>\n",
       "      <th>id_05</th>\n",
       "      <th>id_06</th>\n",
       "      <th>id_07</th>\n",
       "      <th>id_08</th>\n",
       "      <th>id_09</th>\n",
       "      <th>...</th>\n",
       "      <th>id_31</th>\n",
       "      <th>id_32</th>\n",
       "      <th>id_33</th>\n",
       "      <th>id_34</th>\n",
       "      <th>id_35</th>\n",
       "      <th>id_36</th>\n",
       "      <th>id_37</th>\n",
       "      <th>id_38</th>\n",
       "      <th>DeviceType</th>\n",
       "      <th>DeviceInfo</th>\n",
       "    </tr>\n",
       "  </thead>\n",
       "  <tbody>\n",
       "    <tr>\n",
       "      <th>0</th>\n",
       "      <td>2987004</td>\n",
       "      <td>0.0</td>\n",
       "      <td>70787.0</td>\n",
       "      <td>NaN</td>\n",
       "      <td>NaN</td>\n",
       "      <td>NaN</td>\n",
       "      <td>NaN</td>\n",
       "      <td>NaN</td>\n",
       "      <td>NaN</td>\n",
       "      <td>NaN</td>\n",
       "      <td>...</td>\n",
       "      <td>samsung browser 6.2</td>\n",
       "      <td>32.0</td>\n",
       "      <td>2220x1080</td>\n",
       "      <td>match_status:2</td>\n",
       "      <td>T</td>\n",
       "      <td>F</td>\n",
       "      <td>T</td>\n",
       "      <td>T</td>\n",
       "      <td>mobile</td>\n",
       "      <td>SAMSUNG SM-G892A Build/NRD90M</td>\n",
       "    </tr>\n",
       "    <tr>\n",
       "      <th>1</th>\n",
       "      <td>2987008</td>\n",
       "      <td>-5.0</td>\n",
       "      <td>98945.0</td>\n",
       "      <td>NaN</td>\n",
       "      <td>NaN</td>\n",
       "      <td>0.0</td>\n",
       "      <td>-5.0</td>\n",
       "      <td>NaN</td>\n",
       "      <td>NaN</td>\n",
       "      <td>NaN</td>\n",
       "      <td>...</td>\n",
       "      <td>mobile safari 11.0</td>\n",
       "      <td>32.0</td>\n",
       "      <td>1334x750</td>\n",
       "      <td>match_status:1</td>\n",
       "      <td>T</td>\n",
       "      <td>F</td>\n",
       "      <td>F</td>\n",
       "      <td>T</td>\n",
       "      <td>mobile</td>\n",
       "      <td>iOS Device</td>\n",
       "    </tr>\n",
       "    <tr>\n",
       "      <th>2</th>\n",
       "      <td>2987010</td>\n",
       "      <td>-5.0</td>\n",
       "      <td>191631.0</td>\n",
       "      <td>0.0</td>\n",
       "      <td>0.0</td>\n",
       "      <td>0.0</td>\n",
       "      <td>0.0</td>\n",
       "      <td>NaN</td>\n",
       "      <td>NaN</td>\n",
       "      <td>0.0</td>\n",
       "      <td>...</td>\n",
       "      <td>chrome 62.0</td>\n",
       "      <td>NaN</td>\n",
       "      <td>NaN</td>\n",
       "      <td>NaN</td>\n",
       "      <td>F</td>\n",
       "      <td>F</td>\n",
       "      <td>T</td>\n",
       "      <td>T</td>\n",
       "      <td>desktop</td>\n",
       "      <td>Windows</td>\n",
       "    </tr>\n",
       "    <tr>\n",
       "      <th>3</th>\n",
       "      <td>2987011</td>\n",
       "      <td>-5.0</td>\n",
       "      <td>221832.0</td>\n",
       "      <td>NaN</td>\n",
       "      <td>NaN</td>\n",
       "      <td>0.0</td>\n",
       "      <td>-6.0</td>\n",
       "      <td>NaN</td>\n",
       "      <td>NaN</td>\n",
       "      <td>NaN</td>\n",
       "      <td>...</td>\n",
       "      <td>chrome 62.0</td>\n",
       "      <td>NaN</td>\n",
       "      <td>NaN</td>\n",
       "      <td>NaN</td>\n",
       "      <td>F</td>\n",
       "      <td>F</td>\n",
       "      <td>T</td>\n",
       "      <td>T</td>\n",
       "      <td>desktop</td>\n",
       "      <td>NaN</td>\n",
       "    </tr>\n",
       "    <tr>\n",
       "      <th>4</th>\n",
       "      <td>2987016</td>\n",
       "      <td>0.0</td>\n",
       "      <td>7460.0</td>\n",
       "      <td>0.0</td>\n",
       "      <td>0.0</td>\n",
       "      <td>1.0</td>\n",
       "      <td>0.0</td>\n",
       "      <td>NaN</td>\n",
       "      <td>NaN</td>\n",
       "      <td>0.0</td>\n",
       "      <td>...</td>\n",
       "      <td>chrome 62.0</td>\n",
       "      <td>24.0</td>\n",
       "      <td>1280x800</td>\n",
       "      <td>match_status:2</td>\n",
       "      <td>T</td>\n",
       "      <td>F</td>\n",
       "      <td>T</td>\n",
       "      <td>T</td>\n",
       "      <td>desktop</td>\n",
       "      <td>MacOS</td>\n",
       "    </tr>\n",
       "  </tbody>\n",
       "</table>\n",
       "<p>5 rows × 41 columns</p>\n",
       "</div>"
      ],
      "text/plain": [
       "   TransactionID  id_01     id_02  id_03  id_04  id_05  id_06  id_07  id_08  \\\n",
       "0        2987004    0.0   70787.0    NaN    NaN    NaN    NaN    NaN    NaN   \n",
       "1        2987008   -5.0   98945.0    NaN    NaN    0.0   -5.0    NaN    NaN   \n",
       "2        2987010   -5.0  191631.0    0.0    0.0    0.0    0.0    NaN    NaN   \n",
       "3        2987011   -5.0  221832.0    NaN    NaN    0.0   -6.0    NaN    NaN   \n",
       "4        2987016    0.0    7460.0    0.0    0.0    1.0    0.0    NaN    NaN   \n",
       "\n",
       "   id_09  ...                id_31  id_32      id_33           id_34  id_35  \\\n",
       "0    NaN  ...  samsung browser 6.2   32.0  2220x1080  match_status:2      T   \n",
       "1    NaN  ...   mobile safari 11.0   32.0   1334x750  match_status:1      T   \n",
       "2    0.0  ...          chrome 62.0    NaN        NaN             NaN      F   \n",
       "3    NaN  ...          chrome 62.0    NaN        NaN             NaN      F   \n",
       "4    0.0  ...          chrome 62.0   24.0   1280x800  match_status:2      T   \n",
       "\n",
       "  id_36 id_37  id_38  DeviceType                     DeviceInfo  \n",
       "0     F     T      T      mobile  SAMSUNG SM-G892A Build/NRD90M  \n",
       "1     F     F      T      mobile                     iOS Device  \n",
       "2     F     T      T     desktop                        Windows  \n",
       "3     F     T      T     desktop                            NaN  \n",
       "4     F     T      T     desktop                          MacOS  \n",
       "\n",
       "[5 rows x 41 columns]"
      ]
     },
     "execution_count": 7,
     "metadata": {},
     "output_type": "execute_result"
    }
   ],
   "source": [
    "train_identity.head()"
   ]
  },
  {
   "cell_type": "code",
   "execution_count": 8,
   "metadata": {},
   "outputs": [],
   "source": [
    "del train_identity, train_transaction, test_identity, test_transaction"
   ]
  },
  {
   "cell_type": "code",
   "execution_count": 9,
   "metadata": {},
   "outputs": [
    {
     "data": {
      "text/plain": [
       "False"
      ]
     },
     "execution_count": 9,
     "metadata": {},
     "output_type": "execute_result"
    }
   ],
   "source": [
    "# 检测是否存在唯一值的列\n",
    "one_value_cols = [col for col in train.columns if train[col].nunique() <= 1]\n",
    "one_value_cols_test = [col for col in test.columns if test[col].nunique() <= 1]\n",
    "one_value_cols == one_value_cols_test"
   ]
  },
  {
   "cell_type": "code",
   "execution_count": 10,
   "metadata": {},
   "outputs": [
    {
     "name": "stdout",
     "output_type": "stream",
     "text": [
      "There are 0 columns in train dataset with one unique value.\n",
      "There are 1 columns in test dataset with one unique value.\n"
     ]
    }
   ],
   "source": [
    "# 注意花括号的使用，可以直接将数字与字符串连用\n",
    "print(f'There are {len(one_value_cols)} columns in train dataset with one unique value.')\n",
    "print(f'There are {len(one_value_cols_test)} columns in test dataset with one unique value.')"
   ]
  },
  {
   "cell_type": "markdown",
   "metadata": {},
   "source": [
    "## 4 数据分析\n",
    "该部分对主要特征进行可视化分析\n",
    "\n",
    "- id_01 - id_11 是连续变量\n",
    "- id_12 - id_38 是类别变量"
   ]
  },
  {
   "cell_type": "code",
   "execution_count": 11,
   "metadata": {},
   "outputs": [
    {
     "data": {
      "image/png": "[encoded data removed]",
      "text/plain": [
       "<Figure size 432x288 with 1 Axes>"
      ]
     },
     "metadata": {
      "needs_background": "light"
     },
     "output_type": "display_data"
    }
   ],
   "source": [
    "# 变量id_01的分布\n",
    "plt.hist(train['id_01'], bins=77);\n",
    "plt.title('Distribution of id_01 variable');"
   ]
  },
  {
   "cell_type": "code",
   "execution_count": 12,
   "metadata": {},
   "outputs": [
    {
     "data": {
      "text/plain": [
       "NaN     0.887689233582822\n",
       " 0.0    0.108211128797372\n",
       " 1.0    0.001461374335354\n",
       " 3.0    0.001131168083449\n",
       " 2.0    0.000712906831036\n",
       "Name: id_03, dtype: float64"
      ]
     },
     "execution_count": 12,
     "metadata": {},
     "output_type": "execute_result"
    }
   ],
   "source": [
    "# 注意value_counts()的参数使用\n",
    "# dropna=False保留空值，normalize=True将数量归一化\n",
    "train['id_03'].value_counts(dropna=False, normalize=True).head()"
   ]
  },
  {
   "cell_type": "markdown",
   "metadata": {},
   "source": [
    "可以看出变量id_03中88%是空值，其余几乎全等于0"
   ]
  },
  {
   "cell_type": "code",
   "execution_count": 13,
   "metadata": {},
   "outputs": [
    {
     "data": {
      "text/plain": [
       "NaN                     0.761272733430420\n",
       " 100.000000000000000    0.225491922647069\n",
       " 95.080001831054688     0.002084532800488\n",
       " 95.160003662109375     0.001276797507366\n",
       " 97.120002746582045     0.000745080773529\n",
       "Name: id_11, dtype: float64"
      ]
     },
     "execution_count": 13,
     "metadata": {},
     "output_type": "execute_result"
    }
   ],
   "source": [
    "train['id_11'].value_counts(dropna=False, normalize=True).head()"
   ]
  },
  {
   "cell_type": "markdown",
   "metadata": {},
   "source": [
    "id_11中22％的值等于100，空值占76％。 比较奇怪"
   ]
  },
  {
   "cell_type": "code",
   "execution_count": 14,
   "metadata": {},
   "outputs": [
    {
     "data": {
      "image/png": "[encoded data removed]",
      "text/plain": [
       "<Figure size 432x288 with 1 Axes>"
      ]
     },
     "metadata": {
      "needs_background": "light"
     },
     "output_type": "display_data"
    }
   ],
   "source": [
    "plt.hist(train['id_07']);\n",
    "plt.title('Distribution of id_07 variable');\n"
   ]
  },
  {
   "cell_type": "markdown",
   "metadata": {},
   "source": [
    "可以看出一些变量需要归一化，但是需要分清楚哪些需要归一化哪些不需要归一化"
   ]
  },
  {
   "cell_type": "code",
   "execution_count": 24,
   "metadata": {},
   "outputs": [
    {
     "data": {
      "text/html": [
       "\n",
       "    <div id=\"vega-chart\"></div><script>\n",
       "    require([\"vega-embed\"], function(vg_embed) {\n",
       "        const spec = {\"$schema\": \"https://vega.github.io/schema/vega-lite/v4.0.0.json\", \"config\": {\"view\": {\"continuousHeight\": 300, \"continuousWidth\": 400}}, \"datasets\": {\"data-04a7a5d5228fc3ccfb23d3011f71d088\": [{\"count\": 512735, \"id_34\": null}, {\"count\": 60011, \"id_34\": \"match_status:2\"}, {\"count\": 17376, \"id_34\": \"match_status:1\"}, {\"count\": 415, \"id_34\": \"match_status:0\"}, {\"count\": 3, \"id_34\": \"match_status:-1\"}], \"data-1928256bb7c7c8a890103251bfa3b597\": [{\"count\": 512954, \"id_32\": null}, {\"count\": 53071, \"id_32\": 24.0}, {\"count\": 24428, \"id_32\": 32.0}, {\"count\": 81, \"id_32\": 16.0}, {\"count\": 6, \"id_32\": 0.0}], \"data-592d65dd0791ccf1da921bb081b4e957\": [{\"count\": 449555, \"id_38\": null}, {\"count\": 73922, \"id_38\": \"F\"}, {\"count\": 67063, \"id_38\": \"T\"}], \"data-6ae9fd04d0b20a4b1150d885c7e614d7\": [{\"count\": 449555, \"id_15\": null}, {\"count\": 67728, \"id_15\": \"Found\"}, {\"count\": 61612, \"id_15\": \"New\"}, {\"count\": 11645, \"id_15\": \"Unknown\"}], \"data-7b2cf6d13b1ff29ce592a50c8574ee9a\": [{\"count\": 446307, \"id_12\": null}, {\"count\": 123025, \"id_12\": \"NotFound\"}, {\"count\": 21208, \"id_12\": \"Found\"}], \"data-8466aabebaf5926f1257fbdc5eb6b692\": [{\"count\": 449562, \"id_28\": null}, {\"count\": 76232, \"id_28\": \"Found\"}, {\"count\": 64746, \"id_28\": \"New\"}], \"data-bc7a2a20128627a4dfa261cdc35f00fc\": [{\"count\": 449555, \"id_37\": null}, {\"count\": 110452, \"id_37\": \"T\"}, {\"count\": 30533, \"id_37\": \"F\"}], \"data-d65b4492b47a36ae0190aaffa7c4e7e4\": [{\"count\": 449555, \"id_36\": null}, {\"count\": 134066, \"id_36\": \"F\"}, {\"count\": 6919, \"id_36\": \"T\"}], \"data-d8753e5d54942ca3b9397fa20755fac2\": [{\"count\": 461200, \"id_16\": null}, {\"count\": 66324, \"id_16\": \"Found\"}, {\"count\": 63016, \"id_16\": \"NotFound\"}], \"data-e28b0236e60583faa58de4d2d012c51c\": [{\"count\": 449555, \"id_35\": null}, {\"count\": 77814, \"id_35\": \"T\"}, {\"count\": 63171, \"id_35\": \"F\"}], \"data-e35001e9332e8a2b33201c6e7a117ec4\": [{\"count\": 449562, \"id_29\": null}, {\"count\": 74926, \"id_29\": \"Found\"}, {\"count\": 66052, \"id_29\": \"NotFound\"}]}, \"vconcat\": [{\"hconcat\": [{\"data\": {\"name\": \"data-7b2cf6d13b1ff29ce592a50c8574ee9a\"}, \"encoding\": {\"tooltip\": [{\"field\": \"id_12\", \"type\": \"nominal\"}, {\"field\": \"count\", \"type\": \"quantitative\"}], \"x\": {\"axis\": {\"title\": \"Count\"}, \"field\": \"count\", \"type\": \"quantitative\"}, \"y\": {\"axis\": {\"title\": \"id_12\"}, \"field\": \"id_12\", \"type\": \"nominal\"}}, \"mark\": \"bar\", \"title\": \"Counts of id_12\", \"width\": 400}, {\"data\": {\"name\": \"data-6ae9fd04d0b20a4b1150d885c7e614d7\"}, \"encoding\": {\"tooltip\": [{\"field\": \"id_15\", \"type\": \"nominal\"}, {\"field\": \"count\", \"type\": \"quantitative\"}], \"x\": {\"axis\": {\"title\": \"Count\"}, \"field\": \"count\", \"type\": \"quantitative\"}, \"y\": {\"axis\": {\"title\": \"id_15\"}, \"field\": \"id_15\", \"type\": \"nominal\"}}, \"mark\": \"bar\", \"title\": \"Counts of id_15\", \"width\": 400}, {\"data\": {\"name\": \"data-d8753e5d54942ca3b9397fa20755fac2\"}, \"encoding\": {\"tooltip\": [{\"field\": \"id_16\", \"type\": \"nominal\"}, {\"field\": \"count\", \"type\": \"quantitative\"}], \"x\": {\"axis\": {\"title\": \"Count\"}, \"field\": \"count\", \"type\": \"quantitative\"}, \"y\": {\"axis\": {\"title\": \"id_16\"}, \"field\": \"id_16\", \"type\": \"nominal\"}}, \"mark\": \"bar\", \"title\": \"Counts of id_16\", \"width\": 400}]}, {\"hconcat\": [{\"data\": {\"name\": \"data-8466aabebaf5926f1257fbdc5eb6b692\"}, \"encoding\": {\"tooltip\": [{\"field\": \"id_28\", \"type\": \"nominal\"}, {\"field\": \"count\", \"type\": \"quantitative\"}], \"x\": {\"axis\": {\"title\": \"Count\"}, \"field\": \"count\", \"type\": \"quantitative\"}, \"y\": {\"axis\": {\"title\": \"id_28\"}, \"field\": \"id_28\", \"type\": \"nominal\"}}, \"mark\": \"bar\", \"title\": \"Counts of id_28\", \"width\": 400}, {\"data\": {\"name\": \"data-e35001e9332e8a2b33201c6e7a117ec4\"}, \"encoding\": {\"tooltip\": [{\"field\": \"id_29\", \"type\": \"nominal\"}, {\"field\": \"count\", \"type\": \"quantitative\"}], \"x\": {\"axis\": {\"title\": \"Count\"}, \"field\": \"count\", \"type\": \"quantitative\"}, \"y\": {\"axis\": {\"title\": \"id_29\"}, \"field\": \"id_29\", \"type\": \"nominal\"}}, \"mark\": \"bar\", \"title\": \"Counts of id_29\", \"width\": 400}, {\"data\": {\"name\": \"data-1928256bb7c7c8a890103251bfa3b597\"}, \"encoding\": {\"tooltip\": [{\"field\": \"id_32\", \"type\": \"quantitative\"}, {\"field\": \"count\", \"type\": \"quantitative\"}], \"x\": {\"axis\": {\"title\": \"Count\"}, \"field\": \"count\", \"type\": \"quantitative\"}, \"y\": {\"axis\": {\"title\": \"id_32\"}, \"field\": \"id_32\", \"type\": \"nominal\"}}, \"mark\": \"bar\", \"title\": \"Counts of id_32\", \"width\": 400}]}, {\"hconcat\": [{\"data\": {\"name\": \"data-04a7a5d5228fc3ccfb23d3011f71d088\"}, \"encoding\": {\"tooltip\": [{\"field\": \"id_34\", \"type\": \"nominal\"}, {\"field\": \"count\", \"type\": \"quantitative\"}], \"x\": {\"axis\": {\"title\": \"Count\"}, \"field\": \"count\", \"type\": \"quantitative\"}, \"y\": {\"axis\": {\"title\": \"id_34\"}, \"field\": \"id_34\", \"type\": \"nominal\"}}, \"mark\": \"bar\", \"title\": \"Counts of id_34\", \"width\": 400}, {\"data\": {\"name\": \"data-e28b0236e60583faa58de4d2d012c51c\"}, \"encoding\": {\"tooltip\": [{\"field\": \"id_35\", \"type\": \"nominal\"}, {\"field\": \"count\", \"type\": \"quantitative\"}], \"x\": {\"axis\": {\"title\": \"Count\"}, \"field\": \"count\", \"type\": \"quantitative\"}, \"y\": {\"axis\": {\"title\": \"id_35\"}, \"field\": \"id_35\", \"type\": \"nominal\"}}, \"mark\": \"bar\", \"title\": \"Counts of id_35\", \"width\": 400}, {\"data\": {\"name\": \"data-d65b4492b47a36ae0190aaffa7c4e7e4\"}, \"encoding\": {\"tooltip\": [{\"field\": \"id_36\", \"type\": \"nominal\"}, {\"field\": \"count\", \"type\": \"quantitative\"}], \"x\": {\"axis\": {\"title\": \"Count\"}, \"field\": \"count\", \"type\": \"quantitative\"}, \"y\": {\"axis\": {\"title\": \"id_36\"}, \"field\": \"id_36\", \"type\": \"nominal\"}}, \"mark\": \"bar\", \"title\": \"Counts of id_36\", \"width\": 400}]}, {\"hconcat\": [{\"data\": {\"name\": \"data-bc7a2a20128627a4dfa261cdc35f00fc\"}, \"encoding\": {\"tooltip\": [{\"field\": \"id_37\", \"type\": \"nominal\"}, {\"field\": \"count\", \"type\": \"quantitative\"}], \"x\": {\"axis\": {\"title\": \"Count\"}, \"field\": \"count\", \"type\": \"quantitative\"}, \"y\": {\"axis\": {\"title\": \"id_37\"}, \"field\": \"id_37\", \"type\": \"nominal\"}}, \"mark\": \"bar\", \"title\": \"Counts of id_37\", \"width\": 400}, {\"data\": {\"name\": \"data-592d65dd0791ccf1da921bb081b4e957\"}, \"encoding\": {\"tooltip\": [{\"field\": \"id_38\", \"type\": \"nominal\"}, {\"field\": \"count\", \"type\": \"quantitative\"}], \"x\": {\"axis\": {\"title\": \"Count\"}, \"field\": \"count\", \"type\": \"quantitative\"}, \"y\": {\"axis\": {\"title\": \"id_38\"}, \"field\": \"id_38\", \"type\": \"nominal\"}}, \"mark\": \"bar\", \"title\": \"Counts of id_38\", \"width\": 400}]}]};     \n",
       "        vg_embed(\"#vega-chart\", spec, {defaultStyle: true}).catch(console.warn);\n",
       "        console.log(\"anything?\");\n",
       "    });\n",
       "    console.log(\"really...anything?\");\n",
       "    </script>\n",
       "    "
      ],
      "text/plain": [
       "<IPython.core.display.HTML object>"
      ]
     },
     "execution_count": 24,
     "metadata": {},
     "output_type": "execute_result"
    }
   ],
   "source": [
    "charts = {}\n",
    "for i in ['id_12', 'id_15', 'id_16', 'id_28', 'id_29', 'id_30', 'id_31', 'id_32', 'id_33', 'id_34', 'id_35', 'id_36', 'id_37', 'id_38']:\n",
    "    feature_count = train[i].value_counts(dropna=False).reset_index().rename(columns={i: 'count', 'index': i})\n",
    "    chart = alt.Chart(feature_count).mark_bar().encode(\n",
    "                y=alt.Y(f\"{i}:N\", axis=alt.Axis(title=i)),\n",
    "                x=alt.X('count:Q', axis=alt.Axis(title='Count')),\n",
    "                tooltip=[i, 'count']\n",
    "            ).properties(title=f\"Counts of {i}\", width=400)\n",
    "    charts[i] = chart                         \n",
    "    \n",
    "render((charts['id_12'] | charts['id_15'] | charts['id_16']) & (charts['id_28'] | charts['id_29'] | charts['id_32']) & (charts['id_34'] | charts['id_35'] | charts['id_36']) & (charts['id_37'] | charts['id_38']))"
   ]
  },
  {
   "cell_type": "code",
   "execution_count": 25,
   "metadata": {
    "scrolled": false
   },
   "outputs": [
    {
     "data": {
      "text/html": [
       "\n",
       "    <div id=\"vega-chart-1\"></div><script>\n",
       "    require([\"vega-embed\"], function(vg_embed) {\n",
       "        const spec = {\"$schema\": \"https://vega.github.io/schema/vega-lite/v4.0.0.json\", \"config\": {\"view\": {\"continuousHeight\": 300, \"continuousWidth\": 400}}, \"datasets\": {\"data-05c6f1c47a207e3817ecb1324aeffd29\": [{\"count\": 450258, \"id_31\": null}, {\"count\": 22000, \"id_31\": \"chrome 63.0\"}, {\"count\": 13423, \"id_31\": \"mobile safari 11.0\"}, {\"count\": 11474, \"id_31\": \"mobile safari generic\"}, {\"count\": 9030, \"id_31\": \"ie 11.0 for desktop\"}, {\"count\": 8195, \"id_31\": \"safari generic\"}, {\"count\": 7182, \"id_31\": \"chrome 62.0\"}, {\"count\": 6871, \"id_31\": \"chrome 65.0\"}, {\"count\": 6711, \"id_31\": \"chrome 64.0\"}, {\"count\": 5806, \"id_31\": \"chrome 63.0 for android\"}, {\"count\": 4778, \"id_31\": \"chrome generic\"}, {\"count\": 4264, \"id_31\": \"chrome 66.0\"}, {\"count\": 4188, \"id_31\": \"edge 16.0\"}, {\"count\": 3473, \"id_31\": \"chrome 64.0 for android\"}, {\"count\": 3336, \"id_31\": \"chrome 65.0 for android\"}, {\"count\": 3315, \"id_31\": \"firefox 57.0\"}, {\"count\": 2779, \"id_31\": \"mobile safari 10.0\"}, {\"count\": 2349, \"id_31\": \"chrome 66.0 for android\"}, {\"count\": 2097, \"id_31\": \"chrome 62.0 for android\"}, {\"count\": 1600, \"id_31\": \"edge 15.0\"}, {\"count\": 1158, \"id_31\": \"chrome generic for android\"}, {\"count\": 1099, \"id_31\": \"firefox 59.0\"}, {\"count\": 1061, \"id_31\": \"samsung browser 6.2\"}, {\"count\": 833, \"id_31\": \"firefox 58.0\"}, {\"count\": 719, \"id_31\": \"chrome 49.0\"}, {\"count\": 673, \"id_31\": \"firefox\"}, {\"count\": 647, \"id_31\": \"ie 11.0 for tablet\"}, {\"count\": 642, \"id_31\": \"chrome 61.0\"}, {\"count\": 550, \"id_31\": \"safari 11.0\"}, {\"count\": 541, \"id_31\": \"mobile safari 9.0\"}, {\"count\": 538, \"id_31\": \"chrome 61.0 for android\"}, {\"count\": 509, \"id_31\": \"samsung browser 6.4\"}, {\"count\": 428, \"id_31\": \"chrome\"}, {\"count\": 419, \"id_31\": \"edge 14.0\"}, {\"count\": 394, \"id_31\": \"firefox 52.0\"}, {\"count\": 371, \"id_31\": \"chrome 60.0\"}, {\"count\": 325, \"id_31\": \"chrome 60.0 for android\"}, {\"count\": 312, \"id_31\": \"other\"}, {\"count\": 302, \"id_31\": \"chrome 55.0 for android\"}, {\"count\": 285, \"id_31\": \"android webview 4.0\"}], \"data-24477397c9e0b2b4cce50e003da2eefa\": [{\"count\": 517251, \"id_33\": null}, {\"count\": 16874, \"id_33\": \"1920x1080\"}, {\"count\": 8605, \"id_33\": \"1366x768\"}, {\"count\": 6447, \"id_33\": \"1334x750\"}, {\"count\": 4900, \"id_33\": \"2208x1242\"}, {\"count\": 4384, \"id_33\": \"1440x900\"}, {\"count\": 3510, \"id_33\": \"1600x900\"}, {\"count\": 3482, \"id_33\": \"2048x1536\"}, {\"count\": 2149, \"id_33\": \"1280x800\"}, {\"count\": 2093, \"id_33\": \"2560x1600\"}, {\"count\": 1865, \"id_33\": \"2560x1440\"}, {\"count\": 1756, \"id_33\": \"2880x1800\"}, {\"count\": 1743, \"id_33\": \"1280x1024\"}, {\"count\": 1727, \"id_33\": \"1680x1050\"}, {\"count\": 1712, \"id_33\": \"1136x640\"}, {\"count\": 1484, \"id_33\": \"2436x1125\"}, {\"count\": 1318, \"id_33\": \"1280x720\"}, {\"count\": 1056, \"id_33\": \"1920x1200\"}, {\"count\": 1020, \"id_33\": \"2001x1125\"}, {\"count\": 824, \"id_33\": \"1024x768\"}, {\"count\": 544, \"id_33\": \"2220x1080\"}, {\"count\": 397, \"id_33\": \"5120x2880\"}, {\"count\": 380, \"id_33\": \"3360x2100\"}, {\"count\": 354, \"id_33\": \"2732x2048\"}, {\"count\": 335, \"id_33\": \"1366x767\"}, {\"count\": 263, \"id_33\": \"3840x2160\"}, {\"count\": 250, \"id_33\": \"855x480\"}, {\"count\": 241, \"id_33\": \"2736x1824\"}, {\"count\": 224, \"id_33\": \"1360x768\"}, {\"count\": 208, \"id_33\": \"4096x2304\"}, {\"count\": 194, \"id_33\": \"2224x1668\"}, {\"count\": 176, \"id_33\": \"2220x1081\"}, {\"count\": 168, \"id_33\": \"2160x1440\"}, {\"count\": 157, \"id_33\": \"2961x1442\"}, {\"count\": 124, \"id_33\": \"3200x1800\"}, {\"count\": 103, \"id_33\": \"2560x1080\"}, {\"count\": 99, \"id_33\": \"2562x1442\"}, {\"count\": 97, \"id_33\": \"1600x1200\"}, {\"count\": 90, \"id_33\": \"1280x768\"}, {\"count\": 88, \"id_33\": \"3000x2000\"}], \"data-7e51b6874dd5ea9046a09b7e51a17ef8\": [{\"count\": 512975, \"id_30\": null}, {\"count\": 21155, \"id_30\": \"Windows 10\"}, {\"count\": 13110, \"id_30\": \"Windows 7\"}, {\"count\": 3722, \"id_30\": \"iOS 11.2.1\"}, {\"count\": 3699, \"id_30\": \"iOS 11.1.2\"}, {\"count\": 2871, \"id_30\": \"Android 7.0\"}, {\"count\": 2559, \"id_30\": \"Mac OS X 10_12_6\"}, {\"count\": 2348, \"id_30\": \"Mac OS X 10_11_6\"}, {\"count\": 2016, \"id_30\": \"iOS 11.3.0\"}, {\"count\": 1914, \"id_30\": \"Windows 8.1\"}, {\"count\": 1651, \"id_30\": \"Mac OS X 10_10_5\"}, {\"count\": 1647, \"id_30\": \"iOS 11.2.6\"}, {\"count\": 1558, \"id_30\": \"iOS 10.3.3\"}, {\"count\": 1421, \"id_30\": \"Mac OS X 10_13_2\"}, {\"count\": 1211, \"id_30\": \"Mac OS X 10_13_1\"}, {\"count\": 1200, \"id_30\": \"iOS 11.2.5\"}, {\"count\": 1136, \"id_30\": \"Linux\"}, {\"count\": 1079, \"id_30\": \"Android\"}, {\"count\": 902, \"id_30\": \"iOS 11.2.2\"}, {\"count\": 860, \"id_30\": \"Mac OS X 10_13_3\"}, {\"count\": 852, \"id_30\": \"iOS 11.2.0\"}, {\"count\": 759, \"id_30\": \"Mac OS X 10_13_4\"}, {\"count\": 700, \"id_30\": \"iOS 11.1.1\"}, {\"count\": 659, \"id_30\": \"iOS 11.0.3\"}, {\"count\": 630, \"id_30\": \"Android 7.1.1\"}, {\"count\": 570, \"id_30\": \"Mac OS X 10_9_5\"}, {\"count\": 566, \"id_30\": \"Android 6.0.1\"}, {\"count\": 428, \"id_30\": \"iOS 10.3.2\"}, {\"count\": 414, \"id_30\": \"iOS 9.3.5\"}, {\"count\": 350, \"id_30\": \"Android 5.1.1\"}, {\"count\": 343, \"id_30\": \"Android 8.0.0\"}, {\"count\": 303, \"id_30\": \"Mac\"}, {\"count\": 287, \"id_30\": \"Mac OS X 10.13\"}, {\"count\": 285, \"id_30\": \"iOS 10.2.1\"}, {\"count\": 274, \"id_30\": \"iOS\"}, {\"count\": 271, \"id_30\": \"iOS 11.1.0\"}, {\"count\": 246, \"id_30\": \"Windows Vista\"}, {\"count\": 236, \"id_30\": \"iOS 10.3.1\"}, {\"count\": 218, \"id_30\": \"Mac OS X 10.12\"}, {\"count\": 217, \"id_30\": \"Mac OS X 10_12_5\"}], \"data-8930d0e38b852d8a76590f2f3b4ee3b9\": [{\"DeviceInfo\": null, \"count\": 471874}, {\"DeviceInfo\": \"Windows\", \"count\": 47722}, {\"DeviceInfo\": \"iOS Device\", \"count\": 19782}, {\"DeviceInfo\": \"MacOS\", \"count\": 12573}, {\"DeviceInfo\": \"Trident/7.0\", \"count\": 7440}, {\"DeviceInfo\": \"rv:11.0\", \"count\": 1901}, {\"DeviceInfo\": \"rv:57.0\", \"count\": 962}, {\"DeviceInfo\": \"SM-J700M Build/MMB29K\", \"count\": 549}, {\"DeviceInfo\": \"SM-G610M Build/MMB29K\", \"count\": 461}, {\"DeviceInfo\": \"SM-G531H Build/LMY48B\", \"count\": 410}, {\"DeviceInfo\": \"rv:59.0\", \"count\": 362}, {\"DeviceInfo\": \"SM-G935F Build/NRD90M\", \"count\": 334}, {\"DeviceInfo\": \"SM-G955U Build/NRD90M\", \"count\": 328}, {\"DeviceInfo\": \"SM-G532M Build/MMB29T\", \"count\": 316}, {\"DeviceInfo\": \"ALE-L23 Build/HuaweiALE-L23\", \"count\": 312}, {\"DeviceInfo\": \"SM-G950U Build/NRD90M\", \"count\": 290}, {\"DeviceInfo\": \"SM-G930V Build/NRD90M\", \"count\": 274}, {\"DeviceInfo\": \"rv:58.0\", \"count\": 269}, {\"DeviceInfo\": \"rv:52.0\", \"count\": 256}, {\"DeviceInfo\": \"SAMSUNG\", \"count\": 235}, {\"DeviceInfo\": \"SM-G950F Build/NRD90M\", \"count\": 225}, {\"DeviceInfo\": \"Moto G (4) Build/NPJ25.93-14.7\", \"count\": 219}, {\"DeviceInfo\": \"SM-N950U Build/NMF26X\", \"count\": 209}, {\"DeviceInfo\": \"SM-A300H Build/LRX22G\", \"count\": 203}, {\"DeviceInfo\": \"hi6210sft Build/MRA58K\", \"count\": 190}, {\"DeviceInfo\": \"SM-J730GM Build/NRD90M\", \"count\": 184}, {\"DeviceInfo\": \"SM-G570M Build/MMB29K\", \"count\": 182}, {\"DeviceInfo\": \"rv:48.0\", \"count\": 178}, {\"DeviceInfo\": \"CAM-L03 Build/HUAWEICAM-L03\", \"count\": 172}, {\"DeviceInfo\": \"SM-J320M Build/LMY47V\", \"count\": 171}, {\"DeviceInfo\": \"LG-M700 Build/NMF26X\", \"count\": 169}, {\"DeviceInfo\": \"Moto E (4) Plus Build/NMA26.42-69\", \"count\": 160}, {\"DeviceInfo\": \"SM-J510MN Build/MMB29M\", \"count\": 157}, {\"DeviceInfo\": \"SM-J701M Build/NRD90M\", \"count\": 154}, {\"DeviceInfo\": \"LG-D693n Build/LRX22G\", \"count\": 150}, {\"DeviceInfo\": \"Moto G (4) Build/NPJS25.93-14-13\", \"count\": 147}, {\"DeviceInfo\": \"SM-G930F Build/NRD90M\", \"count\": 144}, {\"DeviceInfo\": \"SM-A520F Build/NRD90M\", \"count\": 144}, {\"DeviceInfo\": \"SM-G935V Build/NRD90M\", \"count\": 137}, {\"DeviceInfo\": \"LG-K410 Build/LRX22G\", \"count\": 136}], \"data-b834df04e00b6399c72eb52e59741b20\": [{\"DeviceType\": null, \"count\": 449730}, {\"DeviceType\": \"desktop\", \"count\": 85165}, {\"DeviceType\": \"mobile\", \"count\": 55645}]}, \"vconcat\": [{\"data\": {\"name\": \"data-7e51b6874dd5ea9046a09b7e51a17ef8\"}, \"encoding\": {\"tooltip\": [{\"field\": \"id_30\", \"type\": \"nominal\"}, {\"field\": \"count\", \"type\": \"quantitative\"}], \"x\": {\"axis\": {\"title\": \"id_30\"}, \"field\": \"id_30\", \"type\": \"nominal\"}, \"y\": {\"axis\": {\"title\": \"Count\"}, \"field\": \"count\", \"type\": \"quantitative\"}}, \"mark\": \"bar\", \"title\": \"Counts of id_30\", \"width\": 800}, {\"data\": {\"name\": \"data-05c6f1c47a207e3817ecb1324aeffd29\"}, \"encoding\": {\"tooltip\": [{\"field\": \"id_31\", \"type\": \"nominal\"}, {\"field\": \"count\", \"type\": \"quantitative\"}], \"x\": {\"axis\": {\"title\": \"id_31\"}, \"field\": \"id_31\", \"type\": \"nominal\"}, \"y\": {\"axis\": {\"title\": \"Count\"}, \"field\": \"count\", \"type\": \"quantitative\"}}, \"mark\": \"bar\", \"title\": \"Counts of id_31\", \"width\": 800}, {\"data\": {\"name\": \"data-24477397c9e0b2b4cce50e003da2eefa\"}, \"encoding\": {\"tooltip\": [{\"field\": \"id_33\", \"type\": \"nominal\"}, {\"field\": \"count\", \"type\": \"quantitative\"}], \"x\": {\"axis\": {\"title\": \"id_33\"}, \"field\": \"id_33\", \"type\": \"nominal\"}, \"y\": {\"axis\": {\"title\": \"Count\"}, \"field\": \"count\", \"type\": \"quantitative\"}}, \"mark\": \"bar\", \"title\": \"Counts of id_33\", \"width\": 800}, {\"data\": {\"name\": \"data-b834df04e00b6399c72eb52e59741b20\"}, \"encoding\": {\"tooltip\": [{\"field\": \"DeviceType\", \"type\": \"nominal\"}, {\"field\": \"count\", \"type\": \"quantitative\"}], \"x\": {\"axis\": {\"title\": \"DeviceType\"}, \"field\": \"DeviceType\", \"type\": \"nominal\"}, \"y\": {\"axis\": {\"title\": \"Count\"}, \"field\": \"count\", \"type\": \"quantitative\"}}, \"mark\": \"bar\", \"title\": \"Counts of DeviceType\", \"width\": 800}, {\"data\": {\"name\": \"data-8930d0e38b852d8a76590f2f3b4ee3b9\"}, \"encoding\": {\"tooltip\": [{\"field\": \"DeviceInfo\", \"type\": \"nominal\"}, {\"field\": \"count\", \"type\": \"quantitative\"}], \"x\": {\"axis\": {\"title\": \"DeviceInfo\"}, \"field\": \"DeviceInfo\", \"type\": \"nominal\"}, \"y\": {\"axis\": {\"title\": \"Count\"}, \"field\": \"count\", \"type\": \"quantitative\"}}, \"mark\": \"bar\", \"title\": \"Counts of DeviceInfo\", \"width\": 800}]};     \n",
       "        vg_embed(\"#vega-chart-1\", spec, {defaultStyle: true}).catch(console.warn);\n",
       "        console.log(\"anything?\");\n",
       "    });\n",
       "    console.log(\"really...anything?\");\n",
       "    </script>\n",
       "    "
      ],
      "text/plain": [
       "<IPython.core.display.HTML object>"
      ]
     },
     "execution_count": 25,
     "metadata": {},
     "output_type": "execute_result"
    }
   ],
   "source": [
    "charts = {}\n",
    "for i in ['id_30', 'id_31', 'id_33', 'DeviceType', 'DeviceInfo']:\n",
    "    feature_count = train[i].value_counts(dropna=False)[:40].reset_index().rename(columns={i: 'count', 'index': i})\n",
    "    chart = alt.Chart(feature_count).mark_bar().encode(\n",
    "                x=alt.X(f\"{i}:N\", axis=alt.Axis(title=i)),\n",
    "                y=alt.Y('count:Q', axis=alt.Axis(title='Count')),\n",
    "                tooltip=[i, 'count']\n",
    "            ).properties(title=f\"Counts of {i}\", width=800)\n",
    "    charts[i] = chart\n",
    "    \n",
    "render(charts['id_30'] & charts['id_31'] & charts['id_33'] & charts['DeviceType'] & charts['DeviceInfo'])\n"
   ]
  },
  {
   "cell_type": "code",
   "execution_count": 27,
   "metadata": {},
   "outputs": [
    {
     "data": {
      "text/plain": [
       "Text(0.5, 1.0, 'Distribution of transactiond dates')"
      ]
     },
     "execution_count": 27,
     "metadata": {},
     "output_type": "execute_result"
    },
    {
     "data": {
      "image/png": "[encoded data removed]",
      "text/plain": [
       "<Figure size 432x288 with 1 Axes>"
      ]
     },
     "metadata": {
      "needs_background": "light"
     },
     "output_type": "display_data"
    }
   ],
   "source": [
    "plt.hist(train['TransactionDT'], label='train') # label的使用\n",
    "plt.hist(test['TransactionDT'], label='test')\n",
    "plt.legend();\n",
    "plt.title('Distribution of transactiond dates')"
   ]
  },
  {
   "cell_type": "markdown",
   "metadata": {},
   "source": [
    "一个非常重要的点：训练和测试交易日期似乎并不重叠，因此不建议使用基于时间的拆分进行验证"
   ]
  },
  {
   "cell_type": "code",
   "execution_count": 28,
   "metadata": {},
   "outputs": [
    {
     "data": {
      "text/html": [
       "\n",
       "    <div id=\"vega-chart-2\"></div><script>\n",
       "    require([\"vega-embed\"], function(vg_embed) {\n",
       "        const spec = {\"$schema\": \"https://vega.github.io/schema/vega-lite/v4.0.0.json\", \"config\": {\"view\": {\"continuousHeight\": 300, \"continuousWidth\": 400}}, \"datasets\": {\"data-094ab2b87994d333c8ea53eb85cb8dad\": [{\"M6\": \"F\", \"count\": 227856}, {\"M6\": \"T\", \"count\": 193324}, {\"M6\": null, \"count\": 169360}], \"data-1ebdd928d75937cef4ca94d53347737e\": [{\"M4\": null, \"count\": 281444}, {\"M4\": \"M0\", \"count\": 196405}, {\"M4\": \"M2\", \"count\": 59865}, {\"M4\": \"M1\", \"count\": 52826}], \"data-1f937cd18254e740729b4a0d927975c3\": [{\"M8\": null, \"count\": 346252}, {\"M8\": \"F\", \"count\": 155251}, {\"M8\": \"T\", \"count\": 89037}], \"data-45f3b14dd3844f21e288f525de5a3592\": [{\"M2\": \"T\", \"count\": 285468}, {\"M2\": null, \"count\": 271100}, {\"M2\": \"F\", \"count\": 33972}], \"data-5e8e764de0e81dc667ceb8d61d79dbac\": [{\"card6\": \"debit\", \"count\": 439938}, {\"card6\": \"credit\", \"count\": 148986}, {\"card6\": null, \"count\": 1571}, {\"card6\": \"debit or credit\", \"count\": 30}, {\"card6\": \"charge card\", \"count\": 15}], \"data-8b53a3a9907c8bdf3f8bdf4746964fd9\": [{\"card4\": \"visa\", \"count\": 384767}, {\"card4\": \"mastercard\", \"count\": 189217}, {\"card4\": \"american express\", \"count\": 8328}, {\"card4\": \"discover\", \"count\": 6651}, {\"card4\": null, \"count\": 1577}], \"data-960b26fa3a00f3975cc59670df61c881\": [{\"M1\": \"T\", \"count\": 319415}, {\"M1\": null, \"count\": 271100}, {\"M1\": \"F\", \"count\": 25}], \"data-97147fbeaf1f527304e1ec83d7e5e7ca\": [{\"M3\": null, \"count\": 271100}, {\"M3\": \"T\", \"count\": 251731}, {\"M3\": \"F\", \"count\": 67709}], \"data-9e8b0f74ab41abb92b4f9252118284b1\": [{\"M7\": null, \"count\": 346265}, {\"M7\": \"F\", \"count\": 211374}, {\"M7\": \"T\", \"count\": 32901}], \"data-c800f5d403edd66ab7b75c7963322999\": [{\"M5\": null, \"count\": 350482}, {\"M5\": \"F\", \"count\": 132491}, {\"M5\": \"T\", \"count\": 107567}], \"data-cb960da6de357e86fe2e932a4866cd8c\": [{\"M9\": null, \"count\": 346252}, {\"M9\": \"T\", \"count\": 205656}, {\"M9\": \"F\", \"count\": 38632}], \"data-eb0c71fa4083a76c0c6cd7177b8f8f5f\": [{\"ProductCD\": \"W\", \"count\": 439670}, {\"ProductCD\": \"C\", \"count\": 68519}, {\"ProductCD\": \"R\", \"count\": 37699}, {\"ProductCD\": \"H\", \"count\": 33024}, {\"ProductCD\": \"S\", \"count\": 11628}]}, \"vconcat\": [{\"hconcat\": [{\"data\": {\"name\": \"data-eb0c71fa4083a76c0c6cd7177b8f8f5f\"}, \"encoding\": {\"tooltip\": [{\"field\": \"ProductCD\", \"type\": \"nominal\"}, {\"field\": \"count\", \"type\": \"quantitative\"}], \"x\": {\"axis\": {\"title\": \"Count\"}, \"field\": \"count\", \"type\": \"quantitative\"}, \"y\": {\"axis\": {\"title\": \"ProductCD\"}, \"field\": \"ProductCD\", \"type\": \"nominal\"}}, \"mark\": \"bar\", \"title\": \"Counts of ProductCD\", \"width\": 400}, {\"data\": {\"name\": \"data-8b53a3a9907c8bdf3f8bdf4746964fd9\"}, \"encoding\": {\"tooltip\": [{\"field\": \"card4\", \"type\": \"nominal\"}, {\"field\": \"count\", \"type\": \"quantitative\"}], \"x\": {\"axis\": {\"title\": \"Count\"}, \"field\": \"count\", \"type\": \"quantitative\"}, \"y\": {\"axis\": {\"title\": \"card4\"}, \"field\": \"card4\", \"type\": \"nominal\"}}, \"mark\": \"bar\", \"title\": \"Counts of card4\", \"width\": 400}]}, {\"hconcat\": [{\"data\": {\"name\": \"data-5e8e764de0e81dc667ceb8d61d79dbac\"}, \"encoding\": {\"tooltip\": [{\"field\": \"card6\", \"type\": \"nominal\"}, {\"field\": \"count\", \"type\": \"quantitative\"}], \"x\": {\"axis\": {\"title\": \"Count\"}, \"field\": \"count\", \"type\": \"quantitative\"}, \"y\": {\"axis\": {\"title\": \"card6\"}, \"field\": \"card6\", \"type\": \"nominal\"}}, \"mark\": \"bar\", \"title\": \"Counts of card6\", \"width\": 400}, {\"data\": {\"name\": \"data-1ebdd928d75937cef4ca94d53347737e\"}, \"encoding\": {\"tooltip\": [{\"field\": \"M4\", \"type\": \"nominal\"}, {\"field\": \"count\", \"type\": \"quantitative\"}], \"x\": {\"axis\": {\"title\": \"Count\"}, \"field\": \"count\", \"type\": \"quantitative\"}, \"y\": {\"axis\": {\"title\": \"M4\"}, \"field\": \"M4\", \"type\": \"nominal\"}}, \"mark\": \"bar\", \"title\": \"Counts of M4\", \"width\": 400}]}, {\"hconcat\": [{\"data\": {\"name\": \"data-5e8e764de0e81dc667ceb8d61d79dbac\"}, \"encoding\": {\"tooltip\": [{\"field\": \"card6\", \"type\": \"nominal\"}, {\"field\": \"count\", \"type\": \"quantitative\"}], \"x\": {\"axis\": {\"title\": \"Count\"}, \"field\": \"count\", \"type\": \"quantitative\"}, \"y\": {\"axis\": {\"title\": \"card6\"}, \"field\": \"card6\", \"type\": \"nominal\"}}, \"mark\": \"bar\", \"title\": \"Counts of card6\", \"width\": 400}, {\"data\": {\"name\": \"data-1ebdd928d75937cef4ca94d53347737e\"}, \"encoding\": {\"tooltip\": [{\"field\": \"M4\", \"type\": \"nominal\"}, {\"field\": \"count\", \"type\": \"quantitative\"}], \"x\": {\"axis\": {\"title\": \"Count\"}, \"field\": \"count\", \"type\": \"quantitative\"}, \"y\": {\"axis\": {\"title\": \"M4\"}, \"field\": \"M4\", \"type\": \"nominal\"}}, \"mark\": \"bar\", \"title\": \"Counts of M4\", \"width\": 400}]}, {\"hconcat\": [{\"data\": {\"name\": \"data-960b26fa3a00f3975cc59670df61c881\"}, \"encoding\": {\"tooltip\": [{\"field\": \"M1\", \"type\": \"nominal\"}, {\"field\": \"count\", \"type\": \"quantitative\"}], \"x\": {\"axis\": {\"title\": \"Count\"}, \"field\": \"count\", \"type\": \"quantitative\"}, \"y\": {\"axis\": {\"title\": \"M1\"}, \"field\": \"M1\", \"type\": \"nominal\"}}, \"mark\": \"bar\", \"title\": \"Counts of M1\", \"width\": 400}, {\"data\": {\"name\": \"data-45f3b14dd3844f21e288f525de5a3592\"}, \"encoding\": {\"tooltip\": [{\"field\": \"M2\", \"type\": \"nominal\"}, {\"field\": \"count\", \"type\": \"quantitative\"}], \"x\": {\"axis\": {\"title\": \"Count\"}, \"field\": \"count\", \"type\": \"quantitative\"}, \"y\": {\"axis\": {\"title\": \"M2\"}, \"field\": \"M2\", \"type\": \"nominal\"}}, \"mark\": \"bar\", \"title\": \"Counts of M2\", \"width\": 400}]}, {\"hconcat\": [{\"data\": {\"name\": \"data-97147fbeaf1f527304e1ec83d7e5e7ca\"}, \"encoding\": {\"tooltip\": [{\"field\": \"M3\", \"type\": \"nominal\"}, {\"field\": \"count\", \"type\": \"quantitative\"}], \"x\": {\"axis\": {\"title\": \"Count\"}, \"field\": \"count\", \"type\": \"quantitative\"}, \"y\": {\"axis\": {\"title\": \"M3\"}, \"field\": \"M3\", \"type\": \"nominal\"}}, \"mark\": \"bar\", \"title\": \"Counts of M3\", \"width\": 400}, {\"data\": {\"name\": \"data-c800f5d403edd66ab7b75c7963322999\"}, \"encoding\": {\"tooltip\": [{\"field\": \"M5\", \"type\": \"nominal\"}, {\"field\": \"count\", \"type\": \"quantitative\"}], \"x\": {\"axis\": {\"title\": \"Count\"}, \"field\": \"count\", \"type\": \"quantitative\"}, \"y\": {\"axis\": {\"title\": \"M5\"}, \"field\": \"M5\", \"type\": \"nominal\"}}, \"mark\": \"bar\", \"title\": \"Counts of M5\", \"width\": 400}]}, {\"hconcat\": [{\"data\": {\"name\": \"data-094ab2b87994d333c8ea53eb85cb8dad\"}, \"encoding\": {\"tooltip\": [{\"field\": \"M6\", \"type\": \"nominal\"}, {\"field\": \"count\", \"type\": \"quantitative\"}], \"x\": {\"axis\": {\"title\": \"Count\"}, \"field\": \"count\", \"type\": \"quantitative\"}, \"y\": {\"axis\": {\"title\": \"M6\"}, \"field\": \"M6\", \"type\": \"nominal\"}}, \"mark\": \"bar\", \"title\": \"Counts of M6\", \"width\": 400}, {\"data\": {\"name\": \"data-9e8b0f74ab41abb92b4f9252118284b1\"}, \"encoding\": {\"tooltip\": [{\"field\": \"M7\", \"type\": \"nominal\"}, {\"field\": \"count\", \"type\": \"quantitative\"}], \"x\": {\"axis\": {\"title\": \"Count\"}, \"field\": \"count\", \"type\": \"quantitative\"}, \"y\": {\"axis\": {\"title\": \"M7\"}, \"field\": \"M7\", \"type\": \"nominal\"}}, \"mark\": \"bar\", \"title\": \"Counts of M7\", \"width\": 400}]}, {\"hconcat\": [{\"data\": {\"name\": \"data-1f937cd18254e740729b4a0d927975c3\"}, \"encoding\": {\"tooltip\": [{\"field\": \"M8\", \"type\": \"nominal\"}, {\"field\": \"count\", \"type\": \"quantitative\"}], \"x\": {\"axis\": {\"title\": \"Count\"}, \"field\": \"count\", \"type\": \"quantitative\"}, \"y\": {\"axis\": {\"title\": \"M8\"}, \"field\": \"M8\", \"type\": \"nominal\"}}, \"mark\": \"bar\", \"title\": \"Counts of M8\", \"width\": 400}, {\"data\": {\"name\": \"data-cb960da6de357e86fe2e932a4866cd8c\"}, \"encoding\": {\"tooltip\": [{\"field\": \"M9\", \"type\": \"nominal\"}, {\"field\": \"count\", \"type\": \"quantitative\"}], \"x\": {\"axis\": {\"title\": \"Count\"}, \"field\": \"count\", \"type\": \"quantitative\"}, \"y\": {\"axis\": {\"title\": \"M9\"}, \"field\": \"M9\", \"type\": \"nominal\"}}, \"mark\": \"bar\", \"title\": \"Counts of M9\", \"width\": 400}]}]};     \n",
       "        vg_embed(\"#vega-chart-2\", spec, {defaultStyle: true}).catch(console.warn);\n",
       "        console.log(\"anything?\");\n",
       "    });\n",
       "    console.log(\"really...anything?\");\n",
       "    </script>\n",
       "    "
      ],
      "text/plain": [
       "<IPython.core.display.HTML object>"
      ]
     },
     "execution_count": 28,
     "metadata": {},
     "output_type": "execute_result"
    }
   ],
   "source": [
    "charts = {}\n",
    "for i in ['ProductCD', 'card4', 'card6', 'M4', 'M1', 'M2', 'M3', 'M5', 'M6', 'M7', 'M8', 'M9']:\n",
    "    feature_count = train[i].value_counts(dropna=False).reset_index().rename(columns={i: 'count', 'index': i})\n",
    "    chart = alt.Chart(feature_count).mark_bar().encode(\n",
    "                y=alt.Y(f\"{i}:N\", axis=alt.Axis(title=i)),\n",
    "                x=alt.X('count:Q', axis=alt.Axis(title='Count')),\n",
    "                tooltip=[i, 'count']\n",
    "            ).properties(title=f\"Counts of {i}\", width=400)\n",
    "    charts[i] = chart                         \n",
    "    \n",
    "render((charts['ProductCD'] | charts['card4']) & (charts['card6'] | charts['M4']) & (charts['card6'] | charts['M4']) & (charts['M1'] | charts['M2']) & (charts['M3'] | charts['M5']) & (charts['M6'] | charts['M7']) & (charts['M8'] | charts['M9']))\n"
   ]
  },
  {
   "cell_type": "code",
   "execution_count": 30,
   "metadata": {},
   "outputs": [
    {
     "data": {
      "text/html": [
       "\n",
       "    <div id=\"vega-chart-4\"></div><script>\n",
       "    require([\"vega-embed\"], function(vg_embed) {\n",
       "        const spec = {\"$schema\": \"https://vega.github.io/schema/vega-lite/v4.0.0.json\", \"config\": {\"view\": {\"continuousHeight\": 300, \"continuousWidth\": 400}}, \"datasets\": {\"data-02f8e9c879b2104ba1855c29c9191763\": [{\"P_emaildomain\": \"gmail.com\", \"count\": 228355}, {\"P_emaildomain\": \"yahoo.com\", \"count\": 100934}, {\"P_emaildomain\": null, \"count\": 94456}, {\"P_emaildomain\": \"hotmail.com\", \"count\": 45250}, {\"P_emaildomain\": \"anonymous.com\", \"count\": 36998}, {\"P_emaildomain\": \"aol.com\", \"count\": 28289}, {\"P_emaildomain\": \"comcast.net\", \"count\": 7888}, {\"P_emaildomain\": \"icloud.com\", \"count\": 6267}, {\"P_emaildomain\": \"outlook.com\", \"count\": 5096}, {\"P_emaildomain\": \"msn.com\", \"count\": 4092}, {\"P_emaildomain\": \"att.net\", \"count\": 4033}, {\"P_emaildomain\": \"live.com\", \"count\": 3041}, {\"P_emaildomain\": \"sbcglobal.net\", \"count\": 2970}, {\"P_emaildomain\": \"verizon.net\", \"count\": 2705}, {\"P_emaildomain\": \"ymail.com\", \"count\": 2396}, {\"P_emaildomain\": \"bellsouth.net\", \"count\": 1909}, {\"P_emaildomain\": \"yahoo.com.mx\", \"count\": 1543}, {\"P_emaildomain\": \"me.com\", \"count\": 1522}, {\"P_emaildomain\": \"cox.net\", \"count\": 1393}, {\"P_emaildomain\": \"optonline.net\", \"count\": 1011}, {\"P_emaildomain\": \"charter.net\", \"count\": 816}, {\"P_emaildomain\": \"live.com.mx\", \"count\": 749}, {\"P_emaildomain\": \"rocketmail.com\", \"count\": 664}, {\"P_emaildomain\": \"mail.com\", \"count\": 559}, {\"P_emaildomain\": \"earthlink.net\", \"count\": 514}, {\"P_emaildomain\": \"gmail\", \"count\": 496}, {\"P_emaildomain\": \"outlook.es\", \"count\": 438}, {\"P_emaildomain\": \"mac.com\", \"count\": 436}, {\"P_emaildomain\": \"juno.com\", \"count\": 322}, {\"P_emaildomain\": \"aim.com\", \"count\": 315}, {\"P_emaildomain\": \"hotmail.es\", \"count\": 305}, {\"P_emaildomain\": \"roadrunner.com\", \"count\": 305}, {\"P_emaildomain\": \"windstream.net\", \"count\": 305}, {\"P_emaildomain\": \"hotmail.fr\", \"count\": 295}, {\"P_emaildomain\": \"frontier.com\", \"count\": 280}, {\"P_emaildomain\": \"embarqmail.com\", \"count\": 260}, {\"P_emaildomain\": \"web.de\", \"count\": 240}, {\"P_emaildomain\": \"twc.com\", \"count\": 230}, {\"P_emaildomain\": \"netzero.com\", \"count\": 230}, {\"P_emaildomain\": \"prodigy.net.mx\", \"count\": 207}], \"data-62c5b32b57b36c422c8badf905872e82\": [{\"card2\": 321.0, \"count\": 48935}, {\"card2\": 111.0, \"count\": 45191}, {\"card2\": 555.0, \"count\": 41995}, {\"card2\": 490.0, \"count\": 38145}, {\"card2\": 583.0, \"count\": 21803}, {\"card2\": 170.0, \"count\": 18214}, {\"card2\": 194.0, \"count\": 16938}, {\"card2\": 545.0, \"count\": 16355}, {\"card2\": 360.0, \"count\": 15190}, {\"card2\": 514.0, \"count\": 14541}, {\"card2\": 174.0, \"count\": 11310}, {\"card2\": 512.0, \"count\": 10126}, {\"card2\": null, \"count\": 8933}, {\"card2\": 408.0, \"count\": 8012}, {\"card2\": 361.0, \"count\": 7827}, {\"card2\": 100.0, \"count\": 7570}, {\"card2\": 225.0, \"count\": 7445}, {\"card2\": 215.0, \"count\": 7281}, {\"card2\": 399.0, \"count\": 7180}, {\"card2\": 553.0, \"count\": 6495}, {\"card2\": 481.0, \"count\": 6336}, {\"card2\": 268.0, \"count\": 6239}, {\"card2\": 567.0, \"count\": 6137}, {\"card2\": 476.0, \"count\": 5822}, {\"card2\": 375.0, \"count\": 5473}, {\"card2\": 543.0, \"count\": 5451}, {\"card2\": 327.0, \"count\": 5100}, {\"card2\": 500.0, \"count\": 5045}, {\"card2\": 298.0, \"count\": 4356}, {\"card2\": 206.0, \"count\": 4208}, {\"card2\": 562.0, \"count\": 3756}, {\"card2\": 161.0, \"count\": 3541}, {\"card2\": 103.0, \"count\": 3468}, {\"card2\": 269.0, \"count\": 3338}, {\"card2\": 310.0, \"count\": 3255}, {\"card2\": 494.0, \"count\": 3136}, {\"card2\": 404.0, \"count\": 3056}, {\"card2\": 204.0, \"count\": 2994}, {\"card2\": 455.0, \"count\": 2979}, {\"card2\": 390.0, \"count\": 2896}], \"data-99846c6e547541fe1768a504445f5a2a\": [{\"card1\": 7919, \"count\": 14932}, {\"card1\": 9500, \"count\": 14162}, {\"card1\": 15885, \"count\": 10361}, {\"card1\": 17188, \"count\": 10344}, {\"card1\": 15066, \"count\": 7945}, {\"card1\": 12695, \"count\": 7091}, {\"card1\": 12544, \"count\": 6773}, {\"card1\": 6019, \"count\": 6771}, {\"card1\": 2803, \"count\": 6141}, {\"card1\": 7585, \"count\": 5334}, {\"card1\": 10616, \"count\": 5172}, {\"card1\": 12839, \"count\": 5129}, {\"card1\": 3154, \"count\": 4614}, {\"card1\": 2616, \"count\": 4410}, {\"card1\": 18132, \"count\": 4209}, {\"card1\": 9633, \"count\": 4158}, {\"card1\": 15497, \"count\": 3977}, {\"card1\": 16132, \"count\": 3929}, {\"card1\": 2884, \"count\": 3873}, {\"card1\": 16075, \"count\": 3748}, {\"card1\": 11207, \"count\": 3693}, {\"card1\": 10112, \"count\": 3560}, {\"card1\": 7508, \"count\": 3490}, {\"card1\": 10057, \"count\": 3166}, {\"card1\": 12501, \"count\": 3152}, {\"card1\": 7826, \"count\": 3006}, {\"card1\": 16659, \"count\": 2988}, {\"card1\": 12577, \"count\": 2891}, {\"card1\": 5812, \"count\": 2818}, {\"card1\": 7664, \"count\": 2792}, {\"card1\": 7861, \"count\": 2774}, {\"card1\": 6530, \"count\": 2714}, {\"card1\": 4461, \"count\": 2686}, {\"card1\": 8320, \"count\": 2632}, {\"card1\": 5033, \"count\": 2604}, {\"card1\": 7207, \"count\": 2578}, {\"card1\": 15063, \"count\": 2522}, {\"card1\": 10486, \"count\": 2505}, {\"card1\": 10023, \"count\": 2428}, {\"card1\": 7815, \"count\": 2411}], \"data-aa0f0a799b312efd4ca7a9ab7d9d8b2d\": [{\"card3\": 150.0, \"count\": 521287}, {\"card3\": 185.0, \"count\": 56346}, {\"card3\": 106.0, \"count\": 1571}, {\"card3\": null, \"count\": 1565}, {\"card3\": 146.0, \"count\": 1252}, {\"card3\": 144.0, \"count\": 1252}, {\"card3\": 117.0, \"count\": 962}, {\"card3\": 143.0, \"count\": 899}, {\"card3\": 119.0, \"count\": 750}, {\"card3\": 102.0, \"count\": 460}, {\"card3\": 147.0, \"count\": 390}, {\"card3\": 162.0, \"count\": 339}, {\"card3\": 203.0, \"count\": 253}, {\"card3\": 213.0, \"count\": 221}, {\"card3\": 100.0, \"count\": 202}, {\"card3\": 200.0, \"count\": 184}, {\"card3\": 188.0, \"count\": 175}, {\"card3\": 131.0, \"count\": 172}, {\"card3\": 134.0, \"count\": 166}, {\"card3\": 149.0, \"count\": 127}, {\"card3\": 135.0, \"count\": 120}, {\"card3\": 229.0, \"count\": 118}, {\"card3\": 210.0, \"count\": 104}, {\"card3\": 195.0, \"count\": 101}, {\"card3\": 121.0, \"count\": 99}, {\"card3\": 159.0, \"count\": 82}, {\"card3\": 197.0, \"count\": 81}, {\"card3\": 137.0, \"count\": 71}, {\"card3\": 138.0, \"count\": 70}, {\"card3\": 214.0, \"count\": 66}, {\"card3\": 148.0, \"count\": 61}, {\"card3\": 223.0, \"count\": 55}, {\"card3\": 204.0, \"count\": 51}, {\"card3\": 133.0, \"count\": 50}, {\"card3\": 141.0, \"count\": 49}, {\"card3\": 166.0, \"count\": 47}, {\"card3\": 212.0, \"count\": 46}, {\"card3\": 215.0, \"count\": 44}, {\"card3\": 142.0, \"count\": 40}, {\"card3\": 182.0, \"count\": 39}], \"data-bd669f654d8e81a012b24e01419cecba\": [{\"addr1\": null, \"count\": 65706}, {\"addr1\": 299.0, \"count\": 46335}, {\"addr1\": 325.0, \"count\": 42751}, {\"addr1\": 204.0, \"count\": 42020}, {\"addr1\": 264.0, \"count\": 39870}, {\"addr1\": 330.0, \"count\": 26287}, {\"addr1\": 315.0, \"count\": 23078}, {\"addr1\": 441.0, \"count\": 20827}, {\"addr1\": 272.0, \"count\": 20141}, {\"addr1\": 123.0, \"count\": 16105}, {\"addr1\": 126.0, \"count\": 15243}, {\"addr1\": 184.0, \"count\": 15160}, {\"addr1\": 337.0, \"count\": 15149}, {\"addr1\": 191.0, \"count\": 14979}, {\"addr1\": 181.0, \"count\": 13856}, {\"addr1\": 143.0, \"count\": 9806}, {\"addr1\": 476.0, \"count\": 9478}, {\"addr1\": 310.0, \"count\": 8486}, {\"addr1\": 472.0, \"count\": 8478}, {\"addr1\": 327.0, \"count\": 8425}, {\"addr1\": 512.0, \"count\": 8268}, {\"addr1\": 387.0, \"count\": 8187}, {\"addr1\": 433.0, \"count\": 7831}, {\"addr1\": 231.0, \"count\": 7605}, {\"addr1\": 485.0, \"count\": 6816}, {\"addr1\": 269.0, \"count\": 6404}, {\"addr1\": 205.0, \"count\": 5725}, {\"addr1\": 225.0, \"count\": 5323}, {\"addr1\": 251.0, \"count\": 5216}, {\"addr1\": 494.0, \"count\": 5065}, {\"addr1\": 220.0, \"count\": 5041}, {\"addr1\": 226.0, \"count\": 4867}, {\"addr1\": 498.0, \"count\": 4744}, {\"addr1\": 177.0, \"count\": 4674}, {\"addr1\": 203.0, \"count\": 3808}, {\"addr1\": 420.0, \"count\": 3581}, {\"addr1\": 110.0, \"count\": 3220}, {\"addr1\": 436.0, \"count\": 3169}, {\"addr1\": 469.0, \"count\": 2940}, {\"addr1\": 324.0, \"count\": 2173}], \"data-d0cbf30c6968ca1c699fa877efca2253\": [{\"addr2\": 87.0, \"count\": 520481}, {\"addr2\": null, \"count\": 65706}, {\"addr2\": 60.0, \"count\": 3084}, {\"addr2\": 96.0, \"count\": 638}, {\"addr2\": 32.0, \"count\": 91}, {\"addr2\": 65.0, \"count\": 82}, {\"addr2\": 16.0, \"count\": 55}, {\"addr2\": 31.0, \"count\": 47}, {\"addr2\": 19.0, \"count\": 33}, {\"addr2\": 26.0, \"count\": 25}, {\"addr2\": 27.0, \"count\": 20}, {\"addr2\": 59.0, \"count\": 17}, {\"addr2\": 69.0, \"count\": 17}, {\"addr2\": 34.0, \"count\": 16}, {\"addr2\": 43.0, \"count\": 12}, {\"addr2\": 102.0, \"count\": 11}, {\"addr2\": 29.0, \"count\": 11}, {\"addr2\": 98.0, \"count\": 11}, {\"addr2\": 68.0, \"count\": 10}, {\"addr2\": 57.0, \"count\": 10}, {\"addr2\": 78.0, \"count\": 8}, {\"addr2\": 10.0, \"count\": 8}, {\"addr2\": 13.0, \"count\": 7}, {\"addr2\": 71.0, \"count\": 7}, {\"addr2\": 17.0, \"count\": 7}, {\"addr2\": 72.0, \"count\": 6}, {\"addr2\": 54.0, \"count\": 6}, {\"addr2\": 88.0, \"count\": 5}, {\"addr2\": 52.0, \"count\": 5}, {\"addr2\": 73.0, \"count\": 5}, {\"addr2\": 21.0, \"count\": 5}, {\"addr2\": 51.0, \"count\": 4}, {\"addr2\": 28.0, \"count\": 4}, {\"addr2\": 48.0, \"count\": 4}, {\"addr2\": 47.0, \"count\": 4}, {\"addr2\": 30.0, \"count\": 4}, {\"addr2\": 62.0, \"count\": 4}, {\"addr2\": 101.0, \"count\": 4}, {\"addr2\": 61.0, \"count\": 3}, {\"addr2\": 18.0, \"count\": 3}], \"data-dca1674c1deeebe21dff8c4121d77436\": [{\"R_emaildomain\": null, \"count\": 453249}, {\"R_emaildomain\": \"gmail.com\", \"count\": 57147}, {\"R_emaildomain\": \"hotmail.com\", \"count\": 27509}, {\"R_emaildomain\": \"anonymous.com\", \"count\": 20529}, {\"R_emaildomain\": \"yahoo.com\", \"count\": 11842}, {\"R_emaildomain\": \"aol.com\", \"count\": 3701}, {\"R_emaildomain\": \"outlook.com\", \"count\": 2507}, {\"R_emaildomain\": \"comcast.net\", \"count\": 1812}, {\"R_emaildomain\": \"yahoo.com.mx\", \"count\": 1508}, {\"R_emaildomain\": \"icloud.com\", \"count\": 1398}, {\"R_emaildomain\": \"msn.com\", \"count\": 852}, {\"R_emaildomain\": \"live.com\", \"count\": 762}, {\"R_emaildomain\": \"live.com.mx\", \"count\": 754}, {\"R_emaildomain\": \"verizon.net\", \"count\": 620}, {\"R_emaildomain\": \"me.com\", \"count\": 556}, {\"R_emaildomain\": \"sbcglobal.net\", \"count\": 552}, {\"R_emaildomain\": \"cox.net\", \"count\": 459}, {\"R_emaildomain\": \"outlook.es\", \"count\": 433}, {\"R_emaildomain\": \"att.net\", \"count\": 430}, {\"R_emaildomain\": \"bellsouth.net\", \"count\": 422}, {\"R_emaildomain\": \"hotmail.fr\", \"count\": 293}, {\"R_emaildomain\": \"hotmail.es\", \"count\": 292}, {\"R_emaildomain\": \"web.de\", \"count\": 237}, {\"R_emaildomain\": \"mac.com\", \"count\": 218}, {\"R_emaildomain\": \"prodigy.net.mx\", \"count\": 207}, {\"R_emaildomain\": \"ymail.com\", \"count\": 207}, {\"R_emaildomain\": \"optonline.net\", \"count\": 187}, {\"R_emaildomain\": \"gmx.de\", \"count\": 147}, {\"R_emaildomain\": \"yahoo.fr\", \"count\": 137}, {\"R_emaildomain\": \"charter.net\", \"count\": 127}, {\"R_emaildomain\": \"mail.com\", \"count\": 122}, {\"R_emaildomain\": \"hotmail.co.uk\", \"count\": 105}, {\"R_emaildomain\": \"gmail\", \"count\": 95}, {\"R_emaildomain\": \"earthlink.net\", \"count\": 79}, {\"R_emaildomain\": \"yahoo.de\", \"count\": 75}, {\"R_emaildomain\": \"rocketmail.com\", \"count\": 69}, {\"R_emaildomain\": \"embarqmail.com\", \"count\": 68}, {\"R_emaildomain\": \"scranton.edu\", \"count\": 63}, {\"R_emaildomain\": \"yahoo.es\", \"count\": 57}, {\"R_emaildomain\": \"live.fr\", \"count\": 55}], \"data-e4498b885db285008848c4f8973bc575\": [{\"card5\": 226.0, \"count\": 296546}, {\"card5\": 224.0, \"count\": 81513}, {\"card5\": 166.0, \"count\": 57140}, {\"card5\": 102.0, \"count\": 29105}, {\"card5\": 117.0, \"count\": 25941}, {\"card5\": 138.0, \"count\": 19737}, {\"card5\": 195.0, \"count\": 16945}, {\"card5\": 137.0, \"count\": 11720}, {\"card5\": 126.0, \"count\": 10298}, {\"card5\": 219.0, \"count\": 9924}, {\"card5\": 202.0, \"count\": 7103}, {\"card5\": 162.0, \"count\": 4524}, {\"card5\": null, \"count\": 4259}, {\"card5\": 229.0, \"count\": 2048}, {\"card5\": 197.0, \"count\": 1551}, {\"card5\": 150.0, \"count\": 1338}, {\"card5\": 100.0, \"count\": 978}, {\"card5\": 223.0, \"count\": 936}, {\"card5\": 118.0, \"count\": 752}, {\"card5\": 190.0, \"count\": 744}, {\"card5\": 146.0, \"count\": 671}, {\"card5\": 198.0, \"count\": 670}, {\"card5\": 236.0, \"count\": 647}, {\"card5\": 185.0, \"count\": 474}, {\"card5\": 203.0, \"count\": 428}, {\"card5\": 147.0, \"count\": 417}, {\"card5\": 141.0, \"count\": 341}, {\"card5\": 129.0, \"count\": 325}, {\"card5\": 142.0, \"count\": 277}, {\"card5\": 194.0, \"count\": 259}, {\"card5\": 183.0, \"count\": 258}, {\"card5\": 228.0, \"count\": 248}, {\"card5\": 144.0, \"count\": 219}, {\"card5\": 119.0, \"count\": 219}, {\"card5\": 131.0, \"count\": 205}, {\"card5\": 132.0, \"count\": 203}, {\"card5\": 135.0, \"count\": 196}, {\"card5\": 133.0, \"count\": 145}, {\"card5\": 134.0, \"count\": 94}, {\"card5\": 207.0, \"count\": 82}]}, \"vconcat\": [{\"hconcat\": [{\"data\": {\"name\": \"data-02f8e9c879b2104ba1855c29c9191763\"}, \"encoding\": {\"tooltip\": [{\"field\": \"P_emaildomain\", \"type\": \"nominal\"}, {\"field\": \"count\", \"type\": \"quantitative\"}], \"x\": {\"axis\": {\"title\": \"P_emaildomain\"}, \"field\": \"P_emaildomain\", \"type\": \"nominal\"}, \"y\": {\"axis\": {\"title\": \"Count\"}, \"field\": \"count\", \"type\": \"quantitative\"}}, \"mark\": \"bar\", \"title\": \"Counts of P_emaildomain\", \"width\": 600}, {\"data\": {\"name\": \"data-dca1674c1deeebe21dff8c4121d77436\"}, \"encoding\": {\"tooltip\": [{\"field\": \"R_emaildomain\", \"type\": \"nominal\"}, {\"field\": \"count\", \"type\": \"quantitative\"}], \"x\": {\"axis\": {\"title\": \"R_emaildomain\"}, \"field\": \"R_emaildomain\", \"type\": \"nominal\"}, \"y\": {\"axis\": {\"title\": \"Count\"}, \"field\": \"count\", \"type\": \"quantitative\"}}, \"mark\": \"bar\", \"title\": \"Counts of R_emaildomain\", \"width\": 600}]}, {\"hconcat\": [{\"data\": {\"name\": \"data-99846c6e547541fe1768a504445f5a2a\"}, \"encoding\": {\"tooltip\": [{\"field\": \"card1\", \"type\": \"quantitative\"}, {\"field\": \"count\", \"type\": \"quantitative\"}], \"x\": {\"axis\": {\"title\": \"card1\"}, \"field\": \"card1\", \"type\": \"nominal\"}, \"y\": {\"axis\": {\"title\": \"Count\"}, \"field\": \"count\", \"type\": \"quantitative\"}}, \"mark\": \"bar\", \"title\": \"Counts of card1\", \"width\": 600}, {\"data\": {\"name\": \"data-62c5b32b57b36c422c8badf905872e82\"}, \"encoding\": {\"tooltip\": [{\"field\": \"card2\", \"type\": \"quantitative\"}, {\"field\": \"count\", \"type\": \"quantitative\"}], \"x\": {\"axis\": {\"title\": \"card2\"}, \"field\": \"card2\", \"type\": \"nominal\"}, \"y\": {\"axis\": {\"title\": \"Count\"}, \"field\": \"count\", \"type\": \"quantitative\"}}, \"mark\": \"bar\", \"title\": \"Counts of card2\", \"width\": 600}]}, {\"hconcat\": [{\"data\": {\"name\": \"data-aa0f0a799b312efd4ca7a9ab7d9d8b2d\"}, \"encoding\": {\"tooltip\": [{\"field\": \"card3\", \"type\": \"quantitative\"}, {\"field\": \"count\", \"type\": \"quantitative\"}], \"x\": {\"axis\": {\"title\": \"card3\"}, \"field\": \"card3\", \"type\": \"nominal\"}, \"y\": {\"axis\": {\"title\": \"Count\"}, \"field\": \"count\", \"type\": \"quantitative\"}}, \"mark\": \"bar\", \"title\": \"Counts of card3\", \"width\": 600}, {\"data\": {\"name\": \"data-e4498b885db285008848c4f8973bc575\"}, \"encoding\": {\"tooltip\": [{\"field\": \"card5\", \"type\": \"quantitative\"}, {\"field\": \"count\", \"type\": \"quantitative\"}], \"x\": {\"axis\": {\"title\": \"card5\"}, \"field\": \"card5\", \"type\": \"nominal\"}, \"y\": {\"axis\": {\"title\": \"Count\"}, \"field\": \"count\", \"type\": \"quantitative\"}}, \"mark\": \"bar\", \"title\": \"Counts of card5\", \"width\": 600}]}, {\"hconcat\": [{\"data\": {\"name\": \"data-bd669f654d8e81a012b24e01419cecba\"}, \"encoding\": {\"tooltip\": [{\"field\": \"addr1\", \"type\": \"quantitative\"}, {\"field\": \"count\", \"type\": \"quantitative\"}], \"x\": {\"axis\": {\"title\": \"addr1\"}, \"field\": \"addr1\", \"type\": \"nominal\"}, \"y\": {\"axis\": {\"title\": \"Count\"}, \"field\": \"count\", \"type\": \"quantitative\"}}, \"mark\": \"bar\", \"title\": \"Counts of addr1\", \"width\": 600}, {\"data\": {\"name\": \"data-d0cbf30c6968ca1c699fa877efca2253\"}, \"encoding\": {\"tooltip\": [{\"field\": \"addr2\", \"type\": \"quantitative\"}, {\"field\": \"count\", \"type\": \"quantitative\"}], \"x\": {\"axis\": {\"title\": \"addr2\"}, \"field\": \"addr2\", \"type\": \"nominal\"}, \"y\": {\"axis\": {\"title\": \"Count\"}, \"field\": \"count\", \"type\": \"quantitative\"}}, \"mark\": \"bar\", \"title\": \"Counts of addr2\", \"width\": 600}]}]};     \n",
       "        vg_embed(\"#vega-chart-4\", spec, {defaultStyle: true}).catch(console.warn);\n",
       "        console.log(\"anything?\");\n",
       "    });\n",
       "    console.log(\"really...anything?\");\n",
       "    </script>\n",
       "    "
      ],
      "text/plain": [
       "<IPython.core.display.HTML object>"
      ]
     },
     "execution_count": 30,
     "metadata": {},
     "output_type": "execute_result"
    }
   ],
   "source": [
    "charts = {}\n",
    "for i in ['P_emaildomain', 'R_emaildomain', 'card1', 'card2', 'card3',  'card5', 'addr1', 'addr2']:\n",
    "    feature_count = train[i].value_counts(dropna=False).reset_index()[:40].rename(columns={i: 'count', 'index': i})\n",
    "    chart = alt.Chart(feature_count).mark_bar().encode(\n",
    "                x=alt.X(f\"{i}:N\", axis=alt.Axis(title=i)),\n",
    "                y=alt.Y('count:Q', axis=alt.Axis(title='Count')),\n",
    "                tooltip=[i, 'count']\n",
    "            ).properties(title=f\"Counts of {i}\", width=600)\n",
    "    charts[i] = chart\n",
    "    \n",
    "render((charts['P_emaildomain'] | charts['R_emaildomain']) & (charts['card1'] | charts['card2']) & (charts['card3'] | charts['card5']) & (charts['addr1'] | charts['addr2']))\n"
   ]
  },
  {
   "cell_type": "markdown",
   "metadata": {},
   "source": [
    "## 5 特征工程"
   ]
  },
  {
   "cell_type": "code",
   "execution_count": 39,
   "metadata": {},
   "outputs": [],
   "source": [
    "train['TransactionAmt_to_mean_card1'] = train['TransactionAmt'] / train.groupby(['card1'])['TransactionAmt'].transform('mean')\n",
    "train['TransactionAmt_to_mean_card4'] = train['TransactionAmt'] / train.groupby(['card4'])['TransactionAmt'].transform('mean')\n",
    "train['TransactionAmt_to_std_card1'] = train['TransactionAmt'] / train.groupby(['card1'])['TransactionAmt'].transform('std')\n",
    "train['TransactionAmt_to_std_card4'] = train['TransactionAmt'] / train.groupby(['card4'])['TransactionAmt'].transform('std')\n",
    "\n",
    "test['TransactionAmt_to_mean_card1'] = test['TransactionAmt'] / test.groupby(['card1'])['TransactionAmt'].transform('mean')\n",
    "test['TransactionAmt_to_mean_card4'] = test['TransactionAmt'] / test.groupby(['card4'])['TransactionAmt'].transform('mean')\n",
    "test['TransactionAmt_to_std_card1'] = test['TransactionAmt'] / test.groupby(['card1'])['TransactionAmt'].transform('std')\n",
    "test['TransactionAmt_to_std_card4'] = test['TransactionAmt'] / test.groupby(['card4'])['TransactionAmt'].transform('std')\n",
    "\n",
    "train['id_02_to_mean_card1'] = train['id_02'] / train.groupby(['card1'])['id_02'].transform('mean')\n",
    "train['id_02_to_mean_card4'] = train['id_02'] / train.groupby(['card4'])['id_02'].transform('mean')\n",
    "train['id_02_to_std_card1'] = train['id_02'] / train.groupby(['card1'])['id_02'].transform('std')\n",
    "train['id_02_to_std_card4'] = train['id_02'] / train.groupby(['card4'])['id_02'].transform('std')\n",
    "\n",
    "test['id_02_to_mean_card1'] = test['id-02'] / test.groupby(['card1'])['id-02'].transform('mean')\n",
    "test['id_02_to_mean_card4'] = test['id-02'] / test.groupby(['card4'])['id-02'].transform('mean')\n",
    "test['id_02_to_std_card1'] = test['id-02'] / test.groupby(['card1'])['id-02'].transform('std')\n",
    "test['id_02_to_std_card4'] = test['id-02'] / test.groupby(['card4'])['id-02'].transform('std')\n",
    "\n",
    "train['D15_to_mean_card1'] = train['D15'] / train.groupby(['card1'])['D15'].transform('mean')\n",
    "train['D15_to_mean_card4'] = train['D15'] / train.groupby(['card4'])['D15'].transform('mean')\n",
    "train['D15_to_std_card1'] = train['D15'] / train.groupby(['card1'])['D15'].transform('std')\n",
    "train['D15_to_std_card4'] = train['D15'] / train.groupby(['card4'])['D15'].transform('std')\n",
    "\n",
    "test['D15_to_mean_card1'] = test['D15'] / test.groupby(['card1'])['D15'].transform('mean')\n",
    "test['D15_to_mean_card4'] = test['D15'] / test.groupby(['card4'])['D15'].transform('mean')\n",
    "test['D15_to_std_card1'] = test['D15'] / test.groupby(['card1'])['D15'].transform('std')\n",
    "test['D15_to_std_card4'] = test['D15'] / test.groupby(['card4'])['D15'].transform('std')\n",
    "\n",
    "train['D15_to_mean_addr1'] = train['D15'] / train.groupby(['addr1'])['D15'].transform('mean')\n",
    "train['D15_to_mean_addr2'] = train['D15'] / train.groupby(['addr2'])['D15'].transform('mean')\n",
    "train['D15_to_std_addr1'] = train['D15'] / train.groupby(['addr1'])['D15'].transform('std')\n",
    "train['D15_to_std_addr2'] = train['D15'] / train.groupby(['addr2'])['D15'].transform('std')\n",
    "\n",
    "test['D15_to_mean_addr1'] = test['D15'] / test.groupby(['addr1'])['D15'].transform('mean')\n",
    "test['D15_to_mean_addr2'] = test['D15'] / test.groupby(['addr2'])['D15'].transform('mean')\n",
    "test['D15_to_std_addr1'] = test['D15'] / test.groupby(['addr1'])['D15'].transform('std')\n",
    "test['D15_to_std_addr2'] = test['D15'] / test.groupby(['addr2'])['D15'].transform('std')\n"
   ]
  },
  {
   "cell_type": "code",
   "execution_count": 41,
   "metadata": {},
   "outputs": [
    {
     "data": {
      "text/plain": [
       "0            NaN\n",
       "1      gmail.com\n",
       "2    outlook.com\n",
       "3      yahoo.com\n",
       "4      gmail.com\n",
       "Name: P_emaildomain, dtype: object"
      ]
     },
     "execution_count": 41,
     "metadata": {},
     "output_type": "execute_result"
    }
   ],
   "source": [
    "train['P_emaildomain'].head()"
   ]
  },
  {
   "cell_type": "code",
   "execution_count": 42,
   "metadata": {},
   "outputs": [],
   "source": [
    "###train['P_emaildomain'].str.split('.', expand=True) 使用方法\n",
    "train[['P_emaildomain_1', 'P_emaildomain_2', 'P_emaildomain_3']] = train['P_emaildomain'].str.split('.', expand=True)\n",
    "train[['R_emaildomain_1', 'R_emaildomain_2', 'R_emaildomain_3']] = train['R_emaildomain'].str.split('.', expand=True)\n",
    "test[['P_emaildomain_1', 'P_emaildomain_2', 'P_emaildomain_3']] = test['P_emaildomain'].str.split('.', expand=True)\n",
    "test[['R_emaildomain_1', 'R_emaildomain_2', 'R_emaildomain_3']] = test['R_emaildomain'].str.split('.', expand=True)"
   ]
  },
  {
   "cell_type": "code",
   "execution_count": 44,
   "metadata": {},
   "outputs": [
    {
     "data": {
      "text/html": [
       "<div>\n",
       "<style scoped>\n",
       "    .dataframe tbody tr th:only-of-type {\n",
       "        vertical-align: middle;\n",
       "    }\n",
       "\n",
       "    .dataframe tbody tr th {\n",
       "        vertical-align: top;\n",
       "    }\n",
       "\n",
       "    .dataframe thead th {\n",
       "        text-align: right;\n",
       "    }\n",
       "</style>\n",
       "<table border=\"1\" class=\"dataframe\">\n",
       "  <thead>\n",
       "    <tr style=\"text-align: right;\">\n",
       "      <th></th>\n",
       "      <th>P_emaildomain_1</th>\n",
       "      <th>P_emaildomain_2</th>\n",
       "      <th>P_emaildomain_3</th>\n",
       "    </tr>\n",
       "  </thead>\n",
       "  <tbody>\n",
       "    <tr>\n",
       "      <th>0</th>\n",
       "      <td>NaN</td>\n",
       "      <td>NaN</td>\n",
       "      <td>NaN</td>\n",
       "    </tr>\n",
       "    <tr>\n",
       "      <th>1</th>\n",
       "      <td>gmail</td>\n",
       "      <td>com</td>\n",
       "      <td>None</td>\n",
       "    </tr>\n",
       "    <tr>\n",
       "      <th>2</th>\n",
       "      <td>outlook</td>\n",
       "      <td>com</td>\n",
       "      <td>None</td>\n",
       "    </tr>\n",
       "    <tr>\n",
       "      <th>3</th>\n",
       "      <td>yahoo</td>\n",
       "      <td>com</td>\n",
       "      <td>None</td>\n",
       "    </tr>\n",
       "    <tr>\n",
       "      <th>4</th>\n",
       "      <td>gmail</td>\n",
       "      <td>com</td>\n",
       "      <td>None</td>\n",
       "    </tr>\n",
       "  </tbody>\n",
       "</table>\n",
       "</div>"
      ],
      "text/plain": [
       "  P_emaildomain_1 P_emaildomain_2 P_emaildomain_3\n",
       "0             NaN             NaN             NaN\n",
       "1           gmail             com            None\n",
       "2         outlook             com            None\n",
       "3           yahoo             com            None\n",
       "4           gmail             com            None"
      ]
     },
     "execution_count": 44,
     "metadata": {},
     "output_type": "execute_result"
    }
   ],
   "source": [
    "train[['P_emaildomain_1', 'P_emaildomain_2', 'P_emaildomain_3']].head()"
   ]
  },
  {
   "cell_type": "markdown",
   "metadata": {},
   "source": [
    "## 6 数据准备与模型训练"
   ]
  },
  {
   "cell_type": "markdown",
   "metadata": {},
   "source": [
    "**空值比例大于0.9的列**"
   ]
  },
  {
   "cell_type": "code",
   "execution_count": 46,
   "metadata": {},
   "outputs": [],
   "source": [
    "many_null_cols = [col for col in train.columns if train[col].isnull().sum() / train.shape[0] > 0.9] \n",
    "many_null_cols_test = [col for col in test.columns if test[col].isnull().sum() / test.shape[0] > 0.9]"
   ]
  },
  {
   "cell_type": "markdown",
   "metadata": {},
   "source": [
    "**类别数量最大比例大于0.9的列**"
   ]
  },
  {
   "cell_type": "code",
   "execution_count": 45,
   "metadata": {},
   "outputs": [],
   "source": [
    "big_top_value_cols = [col for col in train.columns if train[col].value_counts(dropna=False, normalize=True).values[0] > 0.9]\n",
    "big_top_value_cols_test = [col for col in test.columns if test[col].value_counts(dropna=False, normalize=True).values[0] > 0.9]\n"
   ]
  },
  {
   "cell_type": "code",
   "execution_count": 47,
   "metadata": {},
   "outputs": [
    {
     "data": {
      "text/plain": [
       "93"
      ]
     },
     "execution_count": 47,
     "metadata": {},
     "output_type": "execute_result"
    }
   ],
   "source": [
    "cols_to_drop = list(set(many_null_cols + many_null_cols_test + big_top_value_cols + big_top_value_cols_test + one_value_cols+ one_value_cols_test))\n",
    "cols_to_drop.remove('isFraud')\n",
    "len(cols_to_drop)"
   ]
  },
  {
   "cell_type": "code",
   "execution_count": null,
   "metadata": {},
   "outputs": [],
   "source": [
    "train = train.drop(cols_to_drop, axis=1)\n",
    "test = test.drop(cols_to_drop, axis=1)\n"
   ]
  },
  {
   "cell_type": "code",
   "execution_count": null,
   "metadata": {},
   "outputs": [],
   "source": [
    "cat_cols = ['id_12', 'id_13', 'id_14', 'id_15', 'id_16', 'id_17', 'id_18', 'id_19', 'id_20', 'id_21', 'id_22', 'id_23', 'id_24', 'id_25', 'id_26', 'id_27', 'id_28', 'id_29',\n",
    "            'id_30', 'id_31', 'id_32', 'id_33', 'id_34', 'id_35', 'id_36', 'id_37', 'id_38', 'DeviceType', 'DeviceInfo', 'ProductCD', 'card4', 'card6', 'M4','P_emaildomain',\n",
    "            'R_emaildomain', 'card1', 'card2', 'card3',  'card5', 'addr1', 'addr2', 'M1', 'M2', 'M3', 'M5', 'M6', 'M7', 'M8', 'M9',\n",
    "            'P_emaildomain_1', 'P_emaildomain_2', 'P_emaildomain_3', 'R_emaildomain_1', 'R_emaildomain_2', 'R_emaildomain_3']\n",
    "for col in cat_cols:\n",
    "    if col in train.columns:\n",
    "        le = LabelEncoder()\n",
    "        le.fit(list(train[col].astype(str).values) + list(test[col].astype(str).values))\n",
    "        train[col] = le.transform(list(train[col].astype(str).values))\n",
    "        test[col] = le.transform(list(test[col].astype(str).values))"
   ]
  },
  {
   "cell_type": "code",
   "execution_count": null,
   "metadata": {},
   "outputs": [],
   "source": [
    "X = train.sort_values('TransactionDT').drop(['isFraud', 'TransactionDT', 'TransactionID'], axis=1)\n",
    "y = train.sort_values('TransactionDT')['isFraud']\n",
    "#X_test = test.sort_values('TransactionDT').drop(['TransactionDT', 'TransactionID'], axis=1)\n",
    "X_test = test.drop(['TransactionDT', 'TransactionID'], axis=1)\n",
    "del train\n",
    "test = test[[\"TransactionDT\", 'TransactionID']]\n"
   ]
  },
  {
   "cell_type": "code",
   "execution_count": null,
   "metadata": {},
   "outputs": [],
   "source": [
    "## 重点：清洗含有正无穷与负无穷的列\n",
    "# by https://www.kaggle.com/dimartinot\n",
    "def clean_inf_nan(df):\n",
    "    return df.replace([np.inf, -np.inf], np.nan)   \n",
    "\n",
    "# Cleaning infinite values to NaN\n",
    "X = clean_inf_nan(X)\n",
    "X_test = clean_inf_nan(X_test )\n"
   ]
  },
  {
   "cell_type": "code",
   "execution_count": null,
   "metadata": {},
   "outputs": [],
   "source": [
    "n_fold = 5\n",
    "folds = TimeSeriesSplit(n_splits=n_fold)\n",
    "folds = KFold(n_splits=5)\n"
   ]
  },
  {
   "cell_type": "code",
   "execution_count": null,
   "metadata": {},
   "outputs": [],
   "source": [
    "params = {'num_leaves': 256,\n",
    "          'min_child_samples': 79,\n",
    "          'objective': 'binary',\n",
    "          'max_depth': 13,\n",
    "          'learning_rate': 0.03,\n",
    "          \"boosting_type\": \"gbdt\",\n",
    "          \"subsample_freq\": 3,\n",
    "          \"subsample\": 0.9,\n",
    "          \"bagging_seed\": 11,\n",
    "          \"metric\": 'auc',\n",
    "          \"verbosity\": -1,\n",
    "          'reg_alpha': 0.3,\n",
    "          'reg_lambda': 0.3,\n",
    "          'colsample_bytree': 0.9,\n",
    "          #'categorical_feature': cat_cols\n",
    "         }\n",
    "result_dict_lgb = train_model_classification(X=X, X_test=X_test, y=y, params=params, folds=folds, model_type='lgb', eval_metric='auc', plot_feature_importance=True,\n",
    "                                                      verbose=500, early_stopping_rounds=200, n_estimators=5000, averaging='usual', n_jobs=-1)\n"
   ]
  },
  {
   "cell_type": "markdown",
   "metadata": {},
   "source": [
    "## 7 总结"
   ]
  },
  {
   "cell_type": "markdown",
   "metadata": {},
   "source": [
    "- altair的使用\n",
    "- train['P_emaildomain'].str.split('.', expand=True) 使用方法\n",
    "- train_model_classification二分类baseline\n",
    "- 清洗含有正无穷与负无穷的列\n",
    "\n",
    "    ```\n",
    "    def clean_inf_nan(df):\n",
    "    return df.replace([np.inf, -np.inf], np.nan)   \n",
    "    ```\n",
    "- train['id_03'].value_counts(dropna=False, normalize=True).head()\n",
    "- plt.hist(train['id_07']) 数据分布"
   ]
  },
  {
   "cell_type": "code",
   "execution_count": null,
   "metadata": {},
   "outputs": [],
   "source": []
  }
 ],
 "metadata": {
  "kernelspec": {
   "display_name": "Python 3",
   "language": "python",
   "name": "python3"
  },
  "language_info": {
   "codemirror_mode": {
    "name": "ipython",
    "version": 3
   },
   "file_extension": ".py",
   "mimetype": "text/x-python",
   "name": "python",
   "nbconvert_exporter": "python",
   "pygments_lexer": "ipython3",
   "version": "3.7.3"
  }
 },
 "nbformat": 4,
 "nbformat_minor": 2
}
